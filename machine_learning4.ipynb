{
 "cells": [
  {
   "cell_type": "code",
   "execution_count": 1,
   "source": [
    "# Importing all necessary dependancies\r\n",
    "import matplotlib.pyplot as plt\r\n",
    "from sklearn.linear_model import LinearRegression\r\n",
    "import numpy as np\r\n",
    "import pandas as pd\r\n",
    "from pathlib import Path\r\n",
    "from collections import Counter\r\n",
    "from sklearn.metrics import balanced_accuracy_score\r\n",
    "from sklearn.metrics import confusion_matrix\r\n",
    "import psycopg2\r\n",
    "from getpass import getpass"
   ],
   "outputs": [],
   "metadata": {}
  },
  {
   "cell_type": "code",
   "execution_count": 2,
   "source": [
    "# more imports\r\n",
    "from sklearn.preprocessing import StandardScaler, MinMaxScaler, OneHotEncoder\r\n",
    "from sklearn.decomposition import PCA\r\n",
    "from sklearn.cluster import KMeans\r\n",
    "import hvplot.pandas\r\n",
    "import plotly.express as px"
   ],
   "outputs": [],
   "metadata": {}
  },
  {
   "cell_type": "code",
   "execution_count": 3,
   "source": [
    "# if you're not connected to the database you can use this to pull in the data\r\n",
    "df = pd.read_csv('clean_survey_data_v2.csv')"
   ],
   "outputs": [],
   "metadata": {}
  },
  {
   "cell_type": "code",
   "execution_count": 4,
   "source": [
    "# Input your password for the Postgres database\r\n",
    "password2 = getpass('database password')"
   ],
   "outputs": [
    {
     "output_type": "stream",
     "name": "stdout",
     "text": [
      "database password········\n"
     ]
    }
   ],
   "metadata": {
    "scrolled": true
   }
  },
  {
   "cell_type": "code",
   "execution_count": 5,
   "source": [
    "# Getting the data from the database (Postgres)\r\n",
    "import pandas.io.sql as psql\r\n",
    "connection = psycopg2.connect(\r\n",
    "# make sure you use your local database name, user and host (should be localhost by default)\r\n",
    "            host=\"localhost\",\r\n",
    "            database=\"Canadian_Election_Study\",\r\n",
    "            user=\"postgres\",\r\n",
    "            password=password2)\r\n",
    "df = psql.read_sql('SELECT * FROM survey_data', connection)"
   ],
   "outputs": [],
   "metadata": {}
  },
  {
   "cell_type": "code",
   "execution_count": 6,
   "source": [
    "# Filtering out the 'Don't Know' or non specific answers as well as renaming Bloc Qu<e9>b<e9>cois to Bloc Quebecois \r\n",
    "df = df[df.cps19_votechoice != \"Don't know/ Prefer not to answer\"]\r\n",
    "df = df[df.cps19_votechoice != \"Another party (please specify)\"]\r\n",
    "df['cps19_votechoice'].replace({'Bloc Qu<e9>b<e9>cois':'Bloc Quebecois'}, inplace=True)\r\n",
    "df.head(5)"
   ],
   "outputs": [
    {
     "output_type": "execute_result",
     "data": {
      "text/plain": [
       "    cps19_responseid cps19_citizenship  cps19_yob cps19_gender cps19_province  \\\n",
       "1  R_3j7fAVYfVCewi3H  Canadian citizen       2000      A woman        Ontario   \n",
       "2  R_brdMqsPTvQ5t1tL  Canadian citizen       2000      A woman        Ontario   \n",
       "3  R_Wumhl7QEMURFqZH  Canadian citizen       2000        A man        Ontario   \n",
       "4  R_3EH051N9vLmOOHM  Canadian citizen       2000      A woman        Ontario   \n",
       "5  R_1FynCZH7i2j3zEY  Canadian citizen       1999        A man        Ontario   \n",
       "\n",
       "                    cps19_education      cps19_demsat  cps19_interest_gen_1  \\\n",
       "1                   Some university  Fairly satisfied                  10.0   \n",
       "2  Completed secondary/ high school  Fairly satisfied                   8.0   \n",
       "3  Completed secondary/ high school  Fairly satisfied                   9.0   \n",
       "4  Completed secondary/ high school  Fairly satisfied                  10.0   \n",
       "5  Completed secondary/ high school  Fairly satisfied                  10.0   \n",
       "\n",
       "   cps19_interest_elxn_1   cps19_v_likely  ... cps19_language_vietnamese  \\\n",
       "1                   10.0  Certain to vote  ...                        No   \n",
       "2                    8.0  Certain to vote  ...                        No   \n",
       "3                    8.0  Certain to vote  ...                        No   \n",
       "4                   10.0  Certain to vote  ...                        No   \n",
       "5                   10.0  Certain to vote  ...                        No   \n",
       "\n",
       "  cps19_language_no_answer  cps19_language_aborginal cps_19_language_other  \\\n",
       "1                       No                        No                    No   \n",
       "2                       No                        No                    No   \n",
       "3                       No                        No                    No   \n",
       "4                       No                        No                    No   \n",
       "5                       No                        No                Hebrew   \n",
       "\n",
       "              cps19_employment cps19_union cps19_children cps19_income_number  \\\n",
       "1  Student and working for pay          No             No             30000.0   \n",
       "2    Working for pay part-time          No             No             13000.0   \n",
       "3  Student and working for pay          No             No             55000.0   \n",
       "4                      Student          No             No            190000.0   \n",
       "5    Working for pay part-time          No             No             10000.0   \n",
       "\n",
       "   cps19_marital cps19_household  \n",
       "1  Never Married               5  \n",
       "2  Never Married               2  \n",
       "3  Never Married               3  \n",
       "4  Never Married               4  \n",
       "5  Never Married               2  \n",
       "\n",
       "[5 rows x 86 columns]"
      ],
      "text/html": [
       "<div>\n",
       "<style scoped>\n",
       "    .dataframe tbody tr th:only-of-type {\n",
       "        vertical-align: middle;\n",
       "    }\n",
       "\n",
       "    .dataframe tbody tr th {\n",
       "        vertical-align: top;\n",
       "    }\n",
       "\n",
       "    .dataframe thead th {\n",
       "        text-align: right;\n",
       "    }\n",
       "</style>\n",
       "<table border=\"1\" class=\"dataframe\">\n",
       "  <thead>\n",
       "    <tr style=\"text-align: right;\">\n",
       "      <th></th>\n",
       "      <th>cps19_responseid</th>\n",
       "      <th>cps19_citizenship</th>\n",
       "      <th>cps19_yob</th>\n",
       "      <th>cps19_gender</th>\n",
       "      <th>cps19_province</th>\n",
       "      <th>cps19_education</th>\n",
       "      <th>cps19_demsat</th>\n",
       "      <th>cps19_interest_gen_1</th>\n",
       "      <th>cps19_interest_elxn_1</th>\n",
       "      <th>cps19_v_likely</th>\n",
       "      <th>...</th>\n",
       "      <th>cps19_language_vietnamese</th>\n",
       "      <th>cps19_language_no_answer</th>\n",
       "      <th>cps19_language_aborginal</th>\n",
       "      <th>cps_19_language_other</th>\n",
       "      <th>cps19_employment</th>\n",
       "      <th>cps19_union</th>\n",
       "      <th>cps19_children</th>\n",
       "      <th>cps19_income_number</th>\n",
       "      <th>cps19_marital</th>\n",
       "      <th>cps19_household</th>\n",
       "    </tr>\n",
       "  </thead>\n",
       "  <tbody>\n",
       "    <tr>\n",
       "      <th>1</th>\n",
       "      <td>R_3j7fAVYfVCewi3H</td>\n",
       "      <td>Canadian citizen</td>\n",
       "      <td>2000</td>\n",
       "      <td>A woman</td>\n",
       "      <td>Ontario</td>\n",
       "      <td>Some university</td>\n",
       "      <td>Fairly satisfied</td>\n",
       "      <td>10.0</td>\n",
       "      <td>10.0</td>\n",
       "      <td>Certain to vote</td>\n",
       "      <td>...</td>\n",
       "      <td>No</td>\n",
       "      <td>No</td>\n",
       "      <td>No</td>\n",
       "      <td>No</td>\n",
       "      <td>Student and working for pay</td>\n",
       "      <td>No</td>\n",
       "      <td>No</td>\n",
       "      <td>30000.0</td>\n",
       "      <td>Never Married</td>\n",
       "      <td>5</td>\n",
       "    </tr>\n",
       "    <tr>\n",
       "      <th>2</th>\n",
       "      <td>R_brdMqsPTvQ5t1tL</td>\n",
       "      <td>Canadian citizen</td>\n",
       "      <td>2000</td>\n",
       "      <td>A woman</td>\n",
       "      <td>Ontario</td>\n",
       "      <td>Completed secondary/ high school</td>\n",
       "      <td>Fairly satisfied</td>\n",
       "      <td>8.0</td>\n",
       "      <td>8.0</td>\n",
       "      <td>Certain to vote</td>\n",
       "      <td>...</td>\n",
       "      <td>No</td>\n",
       "      <td>No</td>\n",
       "      <td>No</td>\n",
       "      <td>No</td>\n",
       "      <td>Working for pay part-time</td>\n",
       "      <td>No</td>\n",
       "      <td>No</td>\n",
       "      <td>13000.0</td>\n",
       "      <td>Never Married</td>\n",
       "      <td>2</td>\n",
       "    </tr>\n",
       "    <tr>\n",
       "      <th>3</th>\n",
       "      <td>R_Wumhl7QEMURFqZH</td>\n",
       "      <td>Canadian citizen</td>\n",
       "      <td>2000</td>\n",
       "      <td>A man</td>\n",
       "      <td>Ontario</td>\n",
       "      <td>Completed secondary/ high school</td>\n",
       "      <td>Fairly satisfied</td>\n",
       "      <td>9.0</td>\n",
       "      <td>8.0</td>\n",
       "      <td>Certain to vote</td>\n",
       "      <td>...</td>\n",
       "      <td>No</td>\n",
       "      <td>No</td>\n",
       "      <td>No</td>\n",
       "      <td>No</td>\n",
       "      <td>Student and working for pay</td>\n",
       "      <td>No</td>\n",
       "      <td>No</td>\n",
       "      <td>55000.0</td>\n",
       "      <td>Never Married</td>\n",
       "      <td>3</td>\n",
       "    </tr>\n",
       "    <tr>\n",
       "      <th>4</th>\n",
       "      <td>R_3EH051N9vLmOOHM</td>\n",
       "      <td>Canadian citizen</td>\n",
       "      <td>2000</td>\n",
       "      <td>A woman</td>\n",
       "      <td>Ontario</td>\n",
       "      <td>Completed secondary/ high school</td>\n",
       "      <td>Fairly satisfied</td>\n",
       "      <td>10.0</td>\n",
       "      <td>10.0</td>\n",
       "      <td>Certain to vote</td>\n",
       "      <td>...</td>\n",
       "      <td>No</td>\n",
       "      <td>No</td>\n",
       "      <td>No</td>\n",
       "      <td>No</td>\n",
       "      <td>Student</td>\n",
       "      <td>No</td>\n",
       "      <td>No</td>\n",
       "      <td>190000.0</td>\n",
       "      <td>Never Married</td>\n",
       "      <td>4</td>\n",
       "    </tr>\n",
       "    <tr>\n",
       "      <th>5</th>\n",
       "      <td>R_1FynCZH7i2j3zEY</td>\n",
       "      <td>Canadian citizen</td>\n",
       "      <td>1999</td>\n",
       "      <td>A man</td>\n",
       "      <td>Ontario</td>\n",
       "      <td>Completed secondary/ high school</td>\n",
       "      <td>Fairly satisfied</td>\n",
       "      <td>10.0</td>\n",
       "      <td>10.0</td>\n",
       "      <td>Certain to vote</td>\n",
       "      <td>...</td>\n",
       "      <td>No</td>\n",
       "      <td>No</td>\n",
       "      <td>No</td>\n",
       "      <td>Hebrew</td>\n",
       "      <td>Working for pay part-time</td>\n",
       "      <td>No</td>\n",
       "      <td>No</td>\n",
       "      <td>10000.0</td>\n",
       "      <td>Never Married</td>\n",
       "      <td>2</td>\n",
       "    </tr>\n",
       "  </tbody>\n",
       "</table>\n",
       "<p>5 rows × 86 columns</p>\n",
       "</div>"
      ]
     },
     "metadata": {},
     "execution_count": 6
    }
   ],
   "metadata": {
    "scrolled": true
   }
  },
  {
   "cell_type": "code",
   "execution_count": 50,
   "source": [
    "# Dropping unnecessary columns\r\n",
    "clean_df = df.drop(['cps19_responseid', 'cps19_ethnicity_no_answer','cps19_ethnicity_other_1', 'cps19_ethnicity_other_2', 'cps19_language_no_answer', 'cps_19_language_other'], axis=1)"
   ],
   "outputs": [],
   "metadata": {
    "scrolled": true
   }
  },
  {
   "cell_type": "code",
   "execution_count": 51,
   "source": [
    "# Dropping more unnecessary columns\r\n",
    "clean_df.drop(['cps19_language_arabic', 'cps19_language_chinese',\r\n",
    "       'cps19_language_filipino', 'cps19_language_german',\r\n",
    "       'cps19_language_indian', 'cps19_language_italian',\r\n",
    "       'cps19_language_korean', 'cps19_language_pakistani',\r\n",
    "       'cps19_language_persian', 'cps19_language_russian',\r\n",
    "       'cps19_language_spanish', 'cps19_language_tamil',\r\n",
    "       'cps19_language_vietnamese','cps19_language_aborginal'], axis=1, inplace=True)"
   ],
   "outputs": [],
   "metadata": {}
  },
  {
   "cell_type": "code",
   "execution_count": 52,
   "source": [
    "# Dropping more unnecessary columns\r\n",
    "clean_df.drop('cps19_citizenship', axis=1, inplace=True)"
   ],
   "outputs": [],
   "metadata": {
    "scrolled": true
   }
  },
  {
   "cell_type": "code",
   "execution_count": 53,
   "source": [
    "# Dropping more unnecessary columns\r\n",
    "clean_df.drop(['cps19_ethnicity_first_nat',\r\n",
    "       'cps19_ethnicity_british', 'cps19_ethnicity_chinese',\r\n",
    "       'cps19_ethnicity_dutch', 'cps19_ethnicity_english',\r\n",
    "       'cps19_ethnicity_french', 'cps19_ethnicity_french_can',\r\n",
    "       'cps19_ethnicity_german', 'cps19_ethnicity_hispanic',\r\n",
    "       'cps19_ethnicity_indian', 'cps19_ethnicity_inuk_inuit',\r\n",
    "       'cps19_ethnicity_irish', 'cps19_ethnicity_italian',\r\n",
    "       'cps19_ethnicity_metis', 'cps19_ethnicity_polish',\r\n",
    "       'cps19_ethnicity_quebecois', 'cps19_ethnicity_scottish',\r\n",
    "       'cps19_ethnicity_ukranian'], axis=1, inplace=True)"
   ],
   "outputs": [],
   "metadata": {}
  },
  {
   "cell_type": "code",
   "execution_count": 54,
   "source": [
    "# Dropping more unnecessary columns\r\n",
    "clean_df.drop('cps19_fed_gov_sat', axis=1, inplace=True)"
   ],
   "outputs": [],
   "metadata": {}
  },
  {
   "cell_type": "code",
   "execution_count": 55,
   "source": [
    "# Dropping more unnecessary columns\r\n",
    "clean_df.drop('cps19_lib_promises', axis=1, inplace=True)"
   ],
   "outputs": [],
   "metadata": {}
  },
  {
   "cell_type": "code",
   "execution_count": 56,
   "source": [
    "# Checking the vote counts for each party\r\n",
    "clean_df['cps19_votechoice'].value_counts()"
   ],
   "outputs": [
    {
     "output_type": "execute_result",
     "data": {
      "text/plain": [
       "Liberal Party         4201\n",
       "Conservative Party    3767\n",
       "ndp                   1851\n",
       "Green Party           1075\n",
       "Bloc Quebecois         630\n",
       "People's Party         288\n",
       "Name: cps19_votechoice, dtype: int64"
      ]
     },
     "metadata": {},
     "execution_count": 56
    }
   ],
   "metadata": {}
  },
  {
   "cell_type": "code",
   "execution_count": 26,
   "source": [
    "# Creating a Right/Left Dataframe splitting the parties into Right and Left instead of each specific party\r\n",
    "right_left_df = clean_df"
   ],
   "outputs": [],
   "metadata": {}
  },
  {
   "cell_type": "code",
   "execution_count": 27,
   "source": [
    "# Splitting the Left parties into one group\r\n",
    "right_left_df['cps19_votechoice'].replace({'Liberal Party': 'Lib/ndp/green', 'ndp': 'Lib/ndp/green', 'Green Party': 'Lib/ndp/green'}, inplace=True)"
   ],
   "outputs": [],
   "metadata": {}
  },
  {
   "cell_type": "code",
   "execution_count": 28,
   "source": [
    "# Splitting the Right parties into one group\r\n",
    "right_left_df['cps19_votechoice'].replace({'Conservative Party': 'Con/PP', \"People's Party\": 'Con/PP'}, inplace=True)"
   ],
   "outputs": [],
   "metadata": {}
  },
  {
   "cell_type": "code",
   "execution_count": 29,
   "source": [
    "# Removing Bloc Quebecois as it's a one issue party and negatively affects the rest of the data\r\n",
    "right_left_df = clean_df[clean_df.cps19_votechoice != 'Bloc Quebecois']"
   ],
   "outputs": [],
   "metadata": {}
  },
  {
   "cell_type": "code",
   "execution_count": 30,
   "source": [
    "# checking the vote counts for right/left\r\n",
    "right_left_df['cps19_votechoice'].value_counts()"
   ],
   "outputs": [
    {
     "output_type": "execute_result",
     "data": {
      "text/plain": [
       "Lib/ndp/green    7127\n",
       "Con/PP           4055\n",
       "Name: cps19_votechoice, dtype: int64"
      ]
     },
     "metadata": {},
     "execution_count": 30
    }
   ],
   "metadata": {
    "scrolled": true
   }
  },
  {
   "cell_type": "code",
   "execution_count": 31,
   "source": [
    "# Create our features\r\n",
    "X = right_left_df.drop('cps19_votechoice', axis=1)"
   ],
   "outputs": [],
   "metadata": {}
  },
  {
   "cell_type": "code",
   "execution_count": 32,
   "source": [
    "# Use get_dummies() to create variables for text features.\r\n",
    "dummies = X.dtypes[X.dtypes == 'object'].index.tolist()\r\n",
    "X = pd.get_dummies(X, columns=dummies)\r\n",
    "X.shape"
   ],
   "outputs": [
    {
     "output_type": "execute_result",
     "data": {
      "text/plain": [
       "(11182, 189)"
      ]
     },
     "metadata": {},
     "execution_count": 32
    }
   ],
   "metadata": {}
  },
  {
   "cell_type": "code",
   "execution_count": 34,
   "source": [
    "# Create our target\r\n",
    "y = right_left_df['cps19_votechoice']\r\n",
    "y.shape"
   ],
   "outputs": [
    {
     "output_type": "execute_result",
     "data": {
      "text/plain": [
       "(11182,)"
      ]
     },
     "metadata": {},
     "execution_count": 34
    }
   ],
   "metadata": {}
  },
  {
   "cell_type": "code",
   "execution_count": 35,
   "source": [
    "# Create the X,y training and test variables\r\n",
    "from sklearn.model_selection import train_test_split\r\n",
    "X_train, X_test, y_train, y_test = train_test_split(X, y, random_state=28)\r\n",
    "Counter(y_train)"
   ],
   "outputs": [
    {
     "output_type": "execute_result",
     "data": {
      "text/plain": [
       "Counter({'Lib/ndp/green': 5353, 'Con/PP': 3033})"
      ]
     },
     "metadata": {},
     "execution_count": 35
    }
   ],
   "metadata": {
    "scrolled": true
   }
  },
  {
   "cell_type": "code",
   "execution_count": 36,
   "source": [
    "Counter(y_test)"
   ],
   "outputs": [
    {
     "output_type": "execute_result",
     "data": {
      "text/plain": [
       "Counter({'Con/PP': 1022, 'Lib/ndp/green': 1774})"
      ]
     },
     "metadata": {},
     "execution_count": 36
    }
   ],
   "metadata": {
    "scrolled": false
   }
  },
  {
   "cell_type": "code",
   "execution_count": 38,
   "source": [
    "# Resample the training data with the BalancedRandomForestClassifier\r\n",
    "from imblearn.ensemble import BalancedRandomForestClassifier\r\n",
    "brf = BalancedRandomForestClassifier(n_estimators=100, random_state=1)\r\n",
    "brf.fit(X_train, y_train)"
   ],
   "outputs": [
    {
     "output_type": "execute_result",
     "data": {
      "text/plain": [
       "BalancedRandomForestClassifier(random_state=1)"
      ]
     },
     "metadata": {},
     "execution_count": 38
    }
   ],
   "metadata": {}
  },
  {
   "cell_type": "code",
   "execution_count": 39,
   "source": [
    "# Calculate the balanced accuracy score\r\n",
    "y_pred = brf.predict(X_test)\r\n",
    "balanced_accuracy_score(y_test, y_pred)"
   ],
   "outputs": [
    {
     "output_type": "execute_result",
     "data": {
      "text/plain": [
       "0.8456758527722683"
      ]
     },
     "metadata": {},
     "execution_count": 39
    }
   ],
   "metadata": {}
  },
  {
   "cell_type": "code",
   "execution_count": 40,
   "source": [
    "# Checking feature importance\r\n",
    "feat_importances = pd.Series(brf.feature_importances_, index=X.columns)\r\n",
    "feat_importances.sort_values(ascending=False,inplace=True)\r\n",
    "pd.set_option(\"display.max_rows\", None)\r\n",
    "print(feat_importances)"
   ],
   "outputs": [
    {
     "output_type": "stream",
     "name": "stdout",
     "text": [
      "cps19_lr_scale                                                                           0.079299\n",
      "cps19_snclav_Not at all well                                                             0.065775\n",
      "cps19_econ_fed_Worse                                                                     0.046015\n",
      "cps19_groups_therm_4                                                                     0.034782\n",
      "cps19_prov_gov_sat_Not at all satisfied                                                  0.032152\n",
      "cps19_refugees_Fewer refugees                                                            0.030293\n",
      "cps19_spend_env_Spend more                                                               0.029374\n",
      "cps19_ownfinanc_fed_Worse                                                                0.024593\n",
      "cps19_groups_therm_1                                                                     0.024154\n",
      "cps19_econ_retro_Got worse                                                               0.024108\n",
      "cps19_spend_imm_min_Spend less                                                           0.023915\n",
      "cps19_groups_therm_2                                                                     0.023026\n",
      "cps19_yob                                                                                0.020685\n",
      "cps19_income_number                                                                      0.020658\n",
      "cps19_econ_fed_Better                                                                    0.019150\n",
      "cps19_groups_therm_3                                                                     0.018770\n",
      "cps19_groups_therm_5                                                                     0.018349\n",
      "cps19_imm_Fewer immigrants                                                               0.015679\n",
      "cps19_interest_elxn_1                                                                    0.013285\n",
      "cps19_interest_gen_1                                                                     0.012697\n",
      "cps19_spend_env_Spend less                                                               0.011548\n",
      "cps19_prov_gov_sat_Fairly satisfied                                                      0.011238\n",
      "cps19_household                                                                          0.009304\n",
      "cps19_ownfinanc_fed_Better                                                               0.008897\n",
      "cps19_spend_env_Spend about the same as now                                              0.008833\n",
      "cps19_snclav_Not very well                                                               0.008454\n",
      "cps19_refugees_More refugees                                                             0.008386\n",
      "cps19_ownfinanc_fed_Not made much difference                                             0.008192\n",
      "cps19_econ_fed_Not made much difference                                                  0.007177\n",
      "cps19_snclav_Well                                                                        0.006646\n",
      "cps19_spend_educ_Spend more                                                              0.006389\n",
      "cps19_province_Ontario                                                                   0.006127\n",
      "cps19_spend_defence_Spend more                                                           0.005995\n",
      "cps19_spend_imm_min_Spend more                                                           0.005890\n",
      "cps19_econ_retro_Stayed about the same                                                   0.005775\n",
      "cps19_spend_imm_min_Spend about the same as now                                          0.005755\n",
      "cps19_province_Alberta                                                                   0.005735\n",
      "cps19_prov_gov_sat_Very satisfied                                                        0.005667\n",
      "cps19_refugees_About the same number of refugees as now                                  0.005542\n",
      "cps19_marital_Married                                                                    0.004983\n",
      "cps19_govt_say_Strongly agree                                                            0.004810\n",
      "cps19_province_British Columbia                                                          0.004711\n",
      "cps19_spend_educ_Spend about the same as now                                             0.004618\n",
      "cps19_own_fin_retro_Got worse                                                            0.004522\n",
      "cps19_econ_retro_Got better                                                              0.004445\n",
      "cps19_spend_just_law_Spend more                                                          0.004398\n",
      "cps19_govt_confusing_Somewhat agree                                                      0.004175\n",
      "cps19_religion_None/ Don't have one/ Atheist                                             0.004113\n",
      "cps19_spend_defence_Spend less                                                           0.004108\n",
      "cps19_children_No                                                                        0.004085\n",
      "cps19_spend_just_law_Spend about the same as now                                         0.004036\n",
      "cps19_imm_More immigrants                                                                0.003986\n",
      "cps19_gender_A woman                                                                     0.003980\n",
      "cps19_gender_A man                                                                       0.003927\n",
      "cps19_prov_gov_sat_Not very satisfied                                                    0.003880\n",
      "cps19_volunteer_Never                                                                    0.003823\n",
      "cps19_govt_say_Somewhat agree                                                            0.003819\n",
      "cps19_snclav_Don't know/ Prefer not to answer                                            0.003656\n",
      "cps19_volunteer_A few times                                                              0.003646\n",
      "cps19_spend_defence_Spend about the same as now                                          0.003610\n",
      "cps19_children_Yes                                                                       0.003609\n",
      "cps19_union_No                                                                           0.003542\n",
      "cps19_employment_Working for pay full-time                                               0.003424\n",
      "cps19_union_Yes                                                                          0.003421\n",
      "cps19_govt_confusing_Strongly agree                                                      0.003411\n",
      "cps19_own_fin_retro_Stayed about the same                                                0.003401\n",
      "cps19_religion_Catholic/ Roman Catholic/ RC                                              0.003373\n",
      "cps19_imm_About the same number of immigrants as now                                     0.003352\n",
      "cps19_duty_choice_Duty                                                                   0.003348\n",
      "cps19_v_likely_Certain to vote                                                           0.003341\n",
      "cps19_v_likely_Likely to vote                                                            0.003326\n",
      "cps19_employment_Retired                                                                 0.003287\n",
      "cps19_demsat_Fairly satisfied                                                            0.003280\n",
      "cps19_education_Bachelor's degree                                                        0.003272\n",
      "cps19_sexuality_Heterosexual                                                             0.003182\n",
      "cps19_demsat_Not very satisfied                                                          0.003175\n",
      "cps19_duty_choice_Choice                                                                 0.003165\n",
      "cps19_language_french_No                                                                 0.003093\n",
      "cps19_language_french_French                                                             0.003086\n",
      "cps19_marital_Living with a partner                                                      0.003041\n",
      "cps19_own_fin_retro_Got better                                                           0.003015\n",
      "cps19_education_Completed technical, community college, CEGEP, College Classique         0.002952\n",
      "cps19_marital_Never Married                                                              0.002946\n",
      "cps19_province_Quebec                                                                    0.002941\n",
      "cps19_govt_confusing_Somewhat disagree                                                   0.002926\n",
      "cps19_bornin_canada_No                                                                   0.002917\n",
      "cps19_education_Completed secondary/ high school                                         0.002911\n",
      "cps19_volunteer_Just once                                                                0.002843\n",
      "cps19_volunteer_More than five times                                                     0.002807\n",
      "cps19_pol_eth_Strongly agree                                                             0.002777\n",
      "cps19_education_Some technical, community college, CEGEP, College Classique              0.002760\n",
      "cps19_govt_say_Somewhat disagree                                                         0.002683\n",
      "cps19_demsat_Very satisfied                                                              0.002680\n",
      "cps19_pol_eth_Somewhat agree                                                             0.002600\n",
      "cps19_turnout_2015_No                                                                    0.002555\n",
      "cps19_language_english_No                                                                0.002553\n",
      "cps19_bornin_canada_Yes                                                                  0.002540\n",
      "cps19_language_english_English                                                           0.002439\n",
      "cps19_govt_say_Strongly disagree                                                         0.002231\n",
      "cps19_education_Master's degree                                                          0.002227\n",
      "cps19_turnout_2015_Yes                                                                   0.002179\n",
      "cps19_spend_just_law_Spend less                                                          0.002157\n",
      "cps19_govt_confusing_Strongly disagree                                                   0.002038\n",
      "cps19_religion_United Church of Canada                                                   0.001963\n",
      "cps19_religion_Agnostic                                                                  0.001949\n",
      "cps19_education_Some university                                                          0.001861\n",
      "cps19_employment_Working for pay part-time                                               0.001849\n",
      "cps19_sexuality_Bisexual                                                                 0.001749\n",
      "cps19_province_Manitoba                                                                  0.001711\n",
      "cps19_spend_educ_Spend less                                                              0.001695\n",
      "cps19_snclav_Very well                                                                   0.001600\n",
      "cps19_employment_Self employed (with or without employees)                               0.001598\n",
      "cps19_religion_Anglican/ Church of England                                               0.001503\n",
      "cps19_religion_Baptist                                                                   0.001480\n",
      "cps19_demsat_Not at all satisfied                                                        0.001478\n",
      "cps19_religion_Pentecostal/ Fundamentalist/ Born Again/ Evangelical                      0.001448\n",
      "cps19_province_Nova Scotia                                                               0.001408\n",
      "cps19_marital_Separated                                                                  0.001378\n",
      "cps19_marital_Divorced                                                                   0.001377\n",
      "cps19_education_Professional degree or doctorate                                         0.001359\n",
      "cps19_marital_Widowed                                                                    0.001229\n",
      "cps19_econ_fed_Don't know/ Prefer not to answer                                          0.001201\n",
      "cps19_sexuality_Homosexual                                                               0.001200\n",
      "cps19_volunteer_Don't know/ Prefer not to answer                                         0.001188\n",
      "cps19_employment_Disabled                                                                0.001157\n",
      "cps19_education_Some secondary/ high school                                              0.001147\n",
      "cps19_religion_Other (please specify)                                                    0.001145\n",
      "cps19_refugees_Don't know/ Prefer not to answer                                          0.001118\n",
      "cps19_pol_eth_Somewhat disagree                                                          0.001110\n",
      "cps19_religion_Protestant                                                                0.001099\n",
      "cps19_spend_defence_Don't know/ Prefer not to answer                                     0.001079\n",
      "cps19_province_Saskatchewan                                                              0.001052\n",
      "cps19_prov_gov_sat_Don't know/ Prefer not to answer                                      0.001033\n",
      "cps19_province_Newfoundland and Labrador                                                 0.001013\n",
      "cps19_imm_Don't know/ Prefer not to answer                                               0.000975\n",
      "cps19_employment_Unemployed/ looking for work                                            0.000948\n",
      "cps19_province_New Brunswick                                                             0.000931\n",
      "cps19_employment_Caring for a family                                                     0.000921\n",
      "cps19_religion_Don't know/ Prefer not to answer                                          0.000857\n",
      "cps19_religion_Jewish/ Judaism/ Jewish Orthodox                                          0.000817\n",
      "cps19_turnout_2015_Not eligible to vote in last election                                 0.000813\n",
      "cps19_econ_retro_Don't know/ Prefer not to answer                                        0.000809\n",
      "cps19_religion_Presbyterian                                                              0.000803\n",
      "cps19_religion_Buddhist/ Buddhism                                                        0.000800\n",
      "cps19_spend_imm_min_Don't know/ Prefer not to answer                                     0.000793\n",
      "cps19_religion_Lutheran                                                                  0.000769\n",
      "cps19_employment_Student                                                                 0.000764\n",
      "cps19_religion_Muslim/ Islam                                                             0.000737\n",
      "cps19_pol_eth_Strongly disagree                                                          0.000728\n",
      "cps19_religion_Christian Reformed                                                        0.000694\n",
      "cps19_education_Completed elementary school                                              0.000656\n",
      "cps19_religion_Hindu                                                                     0.000631\n",
      "cps19_duty_choice_Don't know/ Prefer not to answer                                       0.000624\n",
      "cps19_religion_Greek Orthodox/ Ukrainian Orthodox/ Russian Orthodox/ Eastern Orthodox    0.000620\n",
      "cps19_spend_just_law_Don't know/ Prefer not to answer                                    0.000561\n",
      "cps19_sexuality_Prefer not to say                                                        0.000530\n",
      "cps19_employment_Other (please specify)                                                  0.000506\n",
      "cps19_religion_Salvation Army                                                            0.000424\n",
      "cps19_turnout_2015_Don't know/ Prefer not to answer                                      0.000420\n",
      "cps19_demsat_Don't know/ Prefer not to answer                                            0.000415\n",
      "cps19_pol_eth_Don't know/ Prefer not to answer                                           0.000414\n",
      "cps19_spend_env_Don't know/ Prefer not to answer                                         0.000393\n",
      "cps19_govt_say_Don't know/ Prefer not to answer                                          0.000377\n",
      "cps19_province_Prince Edward Island                                                      0.000369\n",
      "cps19_ownfinanc_fed_Don't know/ Prefer not to answer                                     0.000362\n",
      "cps19_employment_Retired and working for pay                                             0.000321\n",
      "cps19_govt_confusing_Don't know/ Prefer not to answer                                    0.000305\n",
      "cps19_sexuality_Don't know                                                               0.000291\n",
      "cps19_gender_Other (e.g. Trans, non-binary, two-spirit, gender-queer)                    0.000286\n",
      "cps19_spend_educ_Don't know/ Prefer not to answer                                        0.000285\n",
      "cps19_children_Don't know/ Prefer not to answer                                          0.000280\n",
      "cps19_marital_Don't know/ Prefer not to answer                                           0.000254\n",
      "cps19_religion_Sikh/ Sikhism                                                             0.000219\n",
      "cps19_union_Don't know/ Prefer not to say                                                0.000213\n",
      "cps19_bornin_canada_Don't know/ Prefer not to say                                        0.000210\n",
      "cps19_sexuality_Other                                                                    0.000184\n",
      "cps19_education_Some elementary school                                                   0.000159\n",
      "cps19_employment_Student and working for pay                                             0.000158\n",
      "cps19_religion_Mormon/ Church of Jesus Christ of the Latter Day Saints                   0.000152\n",
      "cps19_own_fin_retro_Don't know/ Prefer not to answer                                     0.000137\n",
      "cps19_employment_Caring for family and working for pay                                   0.000134\n",
      "cps19_religion_Mennonite                                                                 0.000085\n",
      "cps19_education_Don't know/ Prefer not to answer                                         0.000068\n",
      "cps19_province_Yukon                                                                     0.000044\n",
      "cps19_employment_Don't know/ Prefer not to answer                                        0.000044\n",
      "cps19_religion_Jehovah's Witness                                                         0.000030\n",
      "cps19_education_No schooling                                                             0.000024\n",
      "cps19_province_Nunavut                                                                   0.000020\n",
      "cps19_province_Northwest Territories                                                     0.000017\n",
      "dtype: float64\n"
     ]
    }
   ],
   "metadata": {}
  },
  {
   "cell_type": "code",
   "execution_count": 57,
   "source": [
    "# Creating the lib/npd only dataframe\r\n",
    "lib_ndp_df = clean_df"
   ],
   "outputs": [],
   "metadata": {}
  },
  {
   "cell_type": "code",
   "execution_count": 58,
   "source": [
    "# Removing other parties from the dataframe\r\n",
    "lib_ndp_df = lib_ndp_df[lib_ndp_df.cps19_votechoice != 'Bloc Quebecois'] \r\n",
    "lib_ndp_df = lib_ndp_df[lib_ndp_df.cps19_votechoice != 'Conservative Party']\r\n",
    "lib_ndp_df = lib_ndp_df[lib_ndp_df.cps19_votechoice != 'Green Party']\r\n",
    "lib_ndp_df = lib_ndp_df[lib_ndp_df.cps19_votechoice != \"People's Party\"]"
   ],
   "outputs": [],
   "metadata": {}
  },
  {
   "cell_type": "code",
   "execution_count": 59,
   "source": [
    "# Checking the value counts\r\n",
    "lib_ndp_df['cps19_votechoice'].value_counts()"
   ],
   "outputs": [
    {
     "output_type": "execute_result",
     "data": {
      "text/plain": [
       "Liberal Party    4201\n",
       "ndp              1851\n",
       "Name: cps19_votechoice, dtype: int64"
      ]
     },
     "metadata": {},
     "execution_count": 59
    }
   ],
   "metadata": {}
  },
  {
   "cell_type": "code",
   "execution_count": 60,
   "source": [
    "# Create our features\r\n",
    "X = lib_ndp_df.drop('cps19_votechoice', axis=1)\r\n",
    "X.shape"
   ],
   "outputs": [
    {
     "output_type": "execute_result",
     "data": {
      "text/plain": [
       "(6052, 44)"
      ]
     },
     "metadata": {},
     "execution_count": 60
    }
   ],
   "metadata": {}
  },
  {
   "cell_type": "code",
   "execution_count": 61,
   "source": [
    "# Create our target\r\n",
    "y = lib_ndp_df['cps19_votechoice']"
   ],
   "outputs": [],
   "metadata": {
    "scrolled": true
   }
  },
  {
   "cell_type": "code",
   "execution_count": 62,
   "source": [
    "# Use get_dummies() to create variables for text features.\r\n",
    "dummies = X.dtypes[X.dtypes == 'object'].index.tolist()\r\n",
    "X = pd.get_dummies(X, columns=dummies)\r\n",
    "X.shape"
   ],
   "outputs": [
    {
     "output_type": "execute_result",
     "data": {
      "text/plain": [
       "(6052, 189)"
      ]
     },
     "metadata": {},
     "execution_count": 62
    }
   ],
   "metadata": {}
  },
  {
   "cell_type": "code",
   "execution_count": 63,
   "source": [
    "# Create the X,y training and test variables\r\n",
    "from sklearn.model_selection import train_test_split\r\n",
    "X_train, X_test, y_train, y_test = train_test_split(X, y, random_state=28)\r\n",
    "Counter(y_train)"
   ],
   "outputs": [
    {
     "output_type": "execute_result",
     "data": {
      "text/plain": [
       "Counter({'Liberal Party': 3144, 'ndp': 1395})"
      ]
     },
     "metadata": {},
     "execution_count": 63
    }
   ],
   "metadata": {}
  },
  {
   "cell_type": "code",
   "execution_count": 65,
   "source": [
    "# Resample the training data with the BalancedRandomForestClassifier\r\n",
    "from imblearn.ensemble import BalancedRandomForestClassifier\r\n",
    "brf = BalancedRandomForestClassifier(n_estimators=100, random_state=1)\r\n",
    "brf.fit(X_train, y_train)"
   ],
   "outputs": [
    {
     "output_type": "execute_result",
     "data": {
      "text/plain": [
       "BalancedRandomForestClassifier(random_state=1)"
      ]
     },
     "metadata": {},
     "execution_count": 65
    }
   ],
   "metadata": {}
  },
  {
   "cell_type": "code",
   "execution_count": 66,
   "source": [
    "# Calculate the balanced accuracy score\r\n",
    "y_pred = brf.predict(X_test)\r\n",
    "balanced_accuracy_score(y_test, y_pred)"
   ],
   "outputs": [
    {
     "output_type": "execute_result",
     "data": {
      "text/plain": [
       "0.7312839217248419"
      ]
     },
     "metadata": {},
     "execution_count": 66
    }
   ],
   "metadata": {}
  },
  {
   "cell_type": "code",
   "execution_count": 67,
   "source": [
    "# check the feature importances\r\n",
    "feat_importances = pd.Series(brf.feature_importances_, index=X.columns)\r\n",
    "feat_importances.sort_values(ascending=False,inplace=True)\r\n",
    "pd.set_option(\"display.max_rows\", None)\r\n",
    "print(feat_importances)"
   ],
   "outputs": [
    {
     "output_type": "stream",
     "name": "stdout",
     "text": [
      "cps19_groups_therm_5                                                                     0.042405\n",
      "cps19_yob                                                                                0.042137\n",
      "cps19_income_number                                                                      0.035957\n",
      "cps19_snclav_Not at all well                                                             0.031425\n",
      "cps19_groups_therm_4                                                                     0.031139\n",
      "cps19_econ_fed_Better                                                                    0.028295\n",
      "cps19_lr_scale                                                                           0.027246\n",
      "cps19_groups_therm_3                                                                     0.026826\n",
      "cps19_groups_therm_2                                                                     0.025710\n",
      "cps19_groups_therm_1                                                                     0.024750\n",
      "cps19_interest_gen_1                                                                     0.020911\n",
      "cps19_interest_elxn_1                                                                    0.018496\n",
      "cps19_demsat_Very satisfied                                                              0.016530\n",
      "cps19_econ_fed_Worse                                                                     0.016505\n",
      "cps19_econ_retro_Got worse                                                               0.014674\n",
      "cps19_household                                                                          0.014163\n",
      "cps19_snclav_Well                                                                        0.013595\n",
      "cps19_ownfinanc_fed_Worse                                                                0.012678\n",
      "cps19_demsat_Not very satisfied                                                          0.012394\n",
      "cps19_own_fin_retro_Got worse                                                            0.011364\n",
      "cps19_ownfinanc_fed_Better                                                               0.010275\n",
      "cps19_econ_retro_Got better                                                              0.009504\n",
      "cps19_spend_defence_Spend less                                                           0.009236\n",
      "cps19_snclav_Not very well                                                               0.007626\n",
      "cps19_religion_Catholic/ Roman Catholic/ RC                                              0.007589\n",
      "cps19_religion_None/ Don't have one/ Atheist                                             0.007555\n",
      "cps19_econ_fed_Not made much difference                                                  0.007504\n",
      "cps19_econ_retro_Stayed about the same                                                   0.007238\n",
      "cps19_employment_Retired                                                                 0.007000\n",
      "cps19_gender_A man                                                                       0.006866\n",
      "cps19_demsat_Fairly satisfied                                                            0.006556\n",
      "cps19_own_fin_retro_Stayed about the same                                                0.006327\n",
      "cps19_prov_gov_sat_Not at all satisfied                                                  0.006193\n",
      "cps19_spend_imm_min_Spend about the same as now                                          0.006149\n",
      "cps19_province_Ontario                                                                   0.006149\n",
      "cps19_gender_A woman                                                                     0.006072\n",
      "cps19_govt_say_Somewhat agree                                                            0.006039\n",
      "cps19_imm_More immigrants                                                                0.006035\n",
      "cps19_ownfinanc_fed_Not made much difference                                             0.006012\n",
      "cps19_spend_just_law_Spend about the same as now                                         0.006010\n",
      "cps19_union_No                                                                           0.005985\n",
      "cps19_spend_defence_Spend about the same as now                                          0.005972\n",
      "cps19_education_Bachelor's degree                                                        0.005898\n",
      "cps19_volunteer_Never                                                                    0.005890\n",
      "cps19_children_Yes                                                                       0.005683\n",
      "cps19_refugees_About the same number of refugees as now                                  0.005679\n",
      "cps19_marital_Married                                                                    0.005580\n",
      "cps19_govt_confusing_Somewhat disagree                                                   0.005534\n",
      "cps19_children_No                                                                        0.005528\n",
      "cps19_union_Yes                                                                          0.005520\n",
      "cps19_spend_educ_Spend about the same as now                                             0.005478\n",
      "cps19_spend_just_law_Spend more                                                          0.005386\n",
      "cps19_imm_About the same number of immigrants as now                                     0.005375\n",
      "cps19_spend_educ_Spend more                                                              0.005272\n",
      "cps19_govt_say_Somewhat disagree                                                         0.005269\n",
      "cps19_govt_confusing_Somewhat agree                                                      0.005257\n",
      "cps19_spend_imm_min_Spend more                                                           0.005217\n",
      "cps19_refugees_More refugees                                                             0.005207\n",
      "cps19_prov_gov_sat_Fairly satisfied                                                      0.005146\n",
      "cps19_employment_Working for pay full-time                                               0.005038\n",
      "cps19_snclav_Don't know/ Prefer not to answer                                            0.005032\n",
      "cps19_own_fin_retro_Got better                                                           0.004997\n",
      "cps19_language_french_French                                                             0.004977\n",
      "cps19_duty_choice_Duty                                                                   0.004970\n",
      "cps19_volunteer_A few times                                                              0.004948\n",
      "cps19_province_British Columbia                                                          0.004903\n",
      "cps19_province_Quebec                                                                    0.004882\n",
      "cps19_education_Completed technical, community college, CEGEP, College Classique         0.004879\n",
      "cps19_volunteer_Just once                                                                0.004853\n",
      "cps19_volunteer_More than five times                                                     0.004836\n",
      "cps19_language_french_No                                                                 0.004786\n",
      "cps19_marital_Never Married                                                              0.004740\n",
      "cps19_govt_confusing_Strongly disagree                                                   0.004736\n",
      "cps19_spend_defence_Spend more                                                           0.004704\n",
      "cps19_govt_confusing_Strongly agree                                                      0.004681\n",
      "cps19_spend_env_Spend more                                                               0.004671\n",
      "cps19_imm_Fewer immigrants                                                               0.004580\n",
      "cps19_spend_just_law_Spend less                                                          0.004577\n",
      "cps19_refugees_Fewer refugees                                                            0.004545\n",
      "cps19_prov_gov_sat_Not very satisfied                                                    0.004463\n",
      "cps19_education_Master's degree                                                          0.004373\n",
      "cps19_pol_eth_Strongly agree                                                             0.004313\n",
      "cps19_duty_choice_Choice                                                                 0.004304\n",
      "cps19_marital_Living with a partner                                                      0.004265\n",
      "cps19_govt_say_Strongly disagree                                                         0.004114\n",
      "cps19_spend_env_Spend about the same as now                                              0.004057\n",
      "cps19_language_english_English                                                           0.004056\n",
      "cps19_pol_eth_Somewhat agree                                                             0.003981\n",
      "cps19_bornin_canada_Yes                                                                  0.003934\n",
      "cps19_language_english_No                                                                0.003878\n",
      "cps19_education_Completed secondary/ high school                                         0.003876\n",
      "cps19_demsat_Not at all satisfied                                                        0.003851\n",
      "cps19_govt_say_Strongly agree                                                            0.003810\n",
      "cps19_sexuality_Heterosexual                                                             0.003785\n",
      "cps19_spend_imm_min_Spend less                                                           0.003743\n",
      "cps19_education_Some technical, community college, CEGEP, College Classique              0.003706\n",
      "cps19_bornin_canada_No                                                                   0.003673\n",
      "cps19_turnout_2015_Yes                                                                   0.003634\n",
      "cps19_province_Alberta                                                                   0.003602\n",
      "cps19_v_likely_Certain to vote                                                           0.003526\n",
      "cps19_v_likely_Likely to vote                                                            0.003485\n",
      "cps19_sexuality_Bisexual                                                                 0.003410\n",
      "cps19_snclav_Very well                                                                   0.003379\n",
      "cps19_religion_Agnostic                                                                  0.003306\n",
      "cps19_econ_fed_Don't know/ Prefer not to answer                                          0.003167\n",
      "cps19_sexuality_Homosexual                                                               0.003061\n",
      "cps19_education_Some university                                                          0.003054\n",
      "cps19_employment_Self employed (with or without employees)                               0.002778\n",
      "cps19_prov_gov_sat_Very satisfied                                                        0.002727\n",
      "cps19_province_Saskatchewan                                                              0.002701\n",
      "cps19_marital_Divorced                                                                   0.002648\n",
      "cps19_province_Manitoba                                                                  0.002583\n",
      "cps19_employment_Working for pay part-time                                               0.002578\n",
      "cps19_turnout_2015_No                                                                    0.002557\n",
      "cps19_province_Nova Scotia                                                               0.002522\n",
      "cps19_religion_Protestant                                                                0.002283\n",
      "cps19_religion_United Church of Canada                                                   0.002161\n",
      "cps19_marital_Separated                                                                  0.002154\n",
      "cps19_education_Professional degree or doctorate                                         0.002110\n",
      "cps19_spend_educ_Spend less                                                              0.002008\n",
      "cps19_econ_retro_Don't know/ Prefer not to answer                                        0.001976\n",
      "cps19_employment_Disabled                                                                0.001772\n",
      "cps19_province_New Brunswick                                                             0.001698\n",
      "cps19_religion_Baptist                                                                   0.001681\n",
      "cps19_religion_Muslim/ Islam                                                             0.001617\n",
      "cps19_religion_Anglican/ Church of England                                               0.001617\n",
      "cps19_religion_Don't know/ Prefer not to answer                                          0.001510\n",
      "cps19_employment_Unemployed/ looking for work                                            0.001428\n",
      "cps19_volunteer_Don't know/ Prefer not to answer                                         0.001427\n",
      "cps19_turnout_2015_Not eligible to vote in last election                                 0.001401\n",
      "cps19_marital_Widowed                                                                    0.001390\n",
      "cps19_prov_gov_sat_Don't know/ Prefer not to answer                                      0.001362\n",
      "cps19_employment_Student                                                                 0.001323\n",
      "cps19_province_Newfoundland and Labrador                                                 0.001302\n",
      "cps19_religion_Other (please specify)                                                    0.001267\n",
      "cps19_spend_env_Spend less                                                               0.001267\n",
      "cps19_education_Some secondary/ high school                                              0.001251\n",
      "cps19_spend_defence_Don't know/ Prefer not to answer                                     0.001215\n",
      "cps19_refugees_Don't know/ Prefer not to answer                                          0.001140\n",
      "cps19_religion_Buddhist/ Buddhism                                                        0.001107\n",
      "cps19_employment_Caring for a family                                                     0.001055\n",
      "cps19_pol_eth_Strongly disagree                                                          0.001048\n",
      "cps19_religion_Presbyterian                                                              0.001018\n",
      "cps19_sexuality_Prefer not to say                                                        0.001011\n",
      "cps19_ownfinanc_fed_Don't know/ Prefer not to answer                                     0.000947\n",
      "cps19_religion_Pentecostal/ Fundamentalist/ Born Again/ Evangelical                      0.000935\n",
      "cps19_religion_Lutheran                                                                  0.000918\n",
      "cps19_spend_just_law_Don't know/ Prefer not to answer                                    0.000901\n",
      "cps19_religion_Greek Orthodox/ Ukrainian Orthodox/ Russian Orthodox/ Eastern Orthodox    0.000888\n",
      "cps19_religion_Jewish/ Judaism/ Jewish Orthodox                                          0.000783\n",
      "cps19_employment_Retired and working for pay                                             0.000765\n",
      "cps19_pol_eth_Somewhat disagree                                                          0.000743\n",
      "cps19_sexuality_Other                                                                    0.000740\n",
      "cps19_education_Completed elementary school                                              0.000733\n",
      "cps19_gender_Other (e.g. Trans, non-binary, two-spirit, gender-queer)                    0.000715\n",
      "cps19_imm_Don't know/ Prefer not to answer                                               0.000682\n",
      "cps19_govt_say_Don't know/ Prefer not to answer                                          0.000664\n",
      "cps19_religion_Hindu                                                                     0.000641\n",
      "cps19_duty_choice_Don't know/ Prefer not to answer                                       0.000624\n",
      "cps19_spend_imm_min_Don't know/ Prefer not to answer                                     0.000553\n",
      "cps19_religion_Christian Reformed                                                        0.000526\n",
      "cps19_union_Don't know/ Prefer not to say                                                0.000490\n",
      "cps19_govt_confusing_Don't know/ Prefer not to answer                                    0.000489\n",
      "cps19_turnout_2015_Don't know/ Prefer not to answer                                      0.000479\n",
      "cps19_spend_env_Don't know/ Prefer not to answer                                         0.000479\n",
      "cps19_religion_Sikh/ Sikhism                                                             0.000425\n",
      "cps19_spend_educ_Don't know/ Prefer not to answer                                        0.000406\n",
      "cps19_marital_Don't know/ Prefer not to answer                                           0.000397\n",
      "cps19_demsat_Don't know/ Prefer not to answer                                            0.000354\n",
      "cps19_religion_Salvation Army                                                            0.000342\n",
      "cps19_pol_eth_Don't know/ Prefer not to answer                                           0.000341\n",
      "cps19_employment_Other (please specify)                                                  0.000332\n",
      "cps19_sexuality_Don't know                                                               0.000269\n",
      "cps19_religion_Mennonite                                                                 0.000232\n",
      "cps19_employment_Student and working for pay                                             0.000221\n",
      "cps19_own_fin_retro_Don't know/ Prefer not to answer                                     0.000174\n",
      "cps19_province_Yukon                                                                     0.000163\n",
      "cps19_children_Don't know/ Prefer not to answer                                          0.000140\n",
      "cps19_religion_Mormon/ Church of Jesus Christ of the Latter Day Saints                   0.000131\n",
      "cps19_employment_Don't know/ Prefer not to answer                                        0.000125\n",
      "cps19_province_Northwest Territories                                                     0.000103\n",
      "cps19_province_Prince Edward Island                                                      0.000094\n",
      "cps19_bornin_canada_Don't know/ Prefer not to say                                        0.000094\n",
      "cps19_employment_Caring for family and working for pay                                   0.000034\n",
      "cps19_province_Nunavut                                                                   0.000032\n",
      "cps19_religion_Jehovah's Witness                                                         0.000025\n",
      "cps19_education_Some elementary school                                                   0.000020\n",
      "cps19_education_Don't know/ Prefer not to answer                                         0.000007\n",
      "cps19_education_No schooling                                                             0.000000\n",
      "dtype: float64\n"
     ]
    }
   ],
   "metadata": {}
  },
  {
   "cell_type": "markdown",
   "source": [
    "## Clustering Analysis"
   ],
   "metadata": {}
  },
  {
   "cell_type": "code",
   "execution_count": 27,
   "source": [
    "# \r\n",
    "data_scaled = MinMaxScaler().fit_transform(dummies)\r\n",
    "print(data_scaled)"
   ],
   "outputs": [
    {
     "output_type": "stream",
     "name": "stdout",
     "text": [
      "[[0.98765432 1.         1.         ... 1.         0.         0.        ]\n",
      " [0.98765432 0.8        0.8        ... 0.         0.         1.        ]\n",
      " [0.98765432 0.9        0.8        ... 0.         0.         0.        ]\n",
      " ...\n",
      " [0.75308642 0.7        0.6        ... 0.         0.         0.        ]\n",
      " [0.45679012 0.8        0.9        ... 0.         0.         0.        ]\n",
      " [0.87654321 0.8        0.8        ... 0.         0.         0.        ]]\n"
     ]
    }
   ],
   "metadata": {
    "scrolled": false
   }
  },
  {
   "cell_type": "code",
   "execution_count": 28,
   "source": [
    "pca = PCA(n_components = 0.95)\r\n",
    "pca.fit(data_scaled)\r\n",
    "reduced = pca.transform(data_scaled)"
   ],
   "outputs": [],
   "metadata": {}
  },
  {
   "cell_type": "code",
   "execution_count": 29,
   "source": [
    "reduced"
   ],
   "outputs": [
    {
     "output_type": "execute_result",
     "data": {
      "text/plain": [
       "array([[-1.64079541, -0.5502324 ,  1.59910587, ...,  0.06997976,\n",
       "        -0.02430385, -0.13628978],\n",
       "       [ 0.06132046, -0.71788866,  0.96958823, ..., -0.13973024,\n",
       "         0.05845579,  0.15821406],\n",
       "       [ 0.8711823 , -0.3102759 ,  0.69872579, ..., -0.15093701,\n",
       "         0.06698659, -0.12218421],\n",
       "       ...,\n",
       "       [-0.28782484,  1.96354745, -0.20501786, ..., -0.26306415,\n",
       "         0.18242836, -0.15280002],\n",
       "       [-1.06311638,  1.70154262, -1.19000938, ..., -0.53468526,\n",
       "         0.20458856, -0.63514211],\n",
       "       [ 2.16345293,  0.18820945,  1.03230782, ..., -0.28867613,\n",
       "         0.1443293 ,  0.17755354]])"
      ]
     },
     "metadata": {},
     "execution_count": 29
    }
   ],
   "metadata": {
    "scrolled": false
   }
  },
  {
   "cell_type": "code",
   "execution_count": 40,
   "source": [
    "pca = PCA(n_components=3)\r\n",
    "survey_pca = pca.fit_transform(dummies)\r\n",
    "survey_pca"
   ],
   "outputs": [
    {
     "output_type": "execute_result",
     "data": {
      "text/plain": [
       "array([[-6.13794164e+04, -8.28547273e+00, -7.97067185e+01],\n",
       "       [-7.83794166e+04, -1.14447210e+01, -4.69936741e+01],\n",
       "       [-3.63794172e+04, -1.02184238e+01,  6.66269873e+01],\n",
       "       ...,\n",
       "       [ 8.32058337e+03, -8.75162242e+00, -5.06205463e+01],\n",
       "       [ 5.86205830e+04, -1.04068567e+01,  6.79360952e+00],\n",
       "       [-2.93794174e+04, -1.21605096e+01,  7.75392985e+01]])"
      ]
     },
     "metadata": {},
     "execution_count": 40
    }
   ],
   "metadata": {}
  },
  {
   "cell_type": "code",
   "execution_count": 30,
   "source": [
    "pcs_df = pd.DataFrame(data=reduced, index=df.index)\r\n",
    "pcs_df.head()"
   ],
   "outputs": [
    {
     "output_type": "execute_result",
     "data": {
      "text/plain": [
       "         0         1         2         3         4         5         6   \\\n",
       "1 -1.640795 -0.550232  1.599106  0.678852 -0.385271 -0.243675 -0.789281   \n",
       "2  0.061320 -0.717889  0.969588 -1.247994 -1.671025  0.275632  0.644154   \n",
       "3  0.871182 -0.310276  0.698726 -0.920029  0.706398  0.423011 -2.179350   \n",
       "4 -0.807417 -0.387583  1.805666  0.219846 -0.860312 -0.448553 -1.068617   \n",
       "5  2.458146  0.402594  0.672011  0.190909 -0.095224  1.223992 -0.688247   \n",
       "\n",
       "         7         8         9   ...        83        84        85        86  \\\n",
       "1 -0.282779 -1.353168  0.224241  ...  0.007670 -0.017931 -0.149940 -0.042816   \n",
       "2  0.447882 -0.515109  0.148403  ... -0.149313 -0.069356 -0.018642 -0.039658   \n",
       "3  1.342329  0.307033 -0.571784  ... -0.017529 -0.039094 -0.089139 -0.060951   \n",
       "4 -0.339758 -0.633080  0.783322  ... -0.079156 -0.084417 -0.150157 -0.134444   \n",
       "5  0.794840 -0.208003 -0.699209  ... -0.334489  0.040719 -0.064281 -0.014206   \n",
       "\n",
       "         87        88        89        90        91        92  \n",
       "1  0.123578 -0.000079  0.158081  0.069980 -0.024304 -0.136290  \n",
       "2 -0.013591 -0.188013  0.003429 -0.139730  0.058456  0.158214  \n",
       "3 -0.034886  0.029153 -0.061990 -0.150937  0.066987 -0.122184  \n",
       "4  0.421827 -0.038113 -0.181143  0.072567  0.198737  0.343894  \n",
       "5  0.035489 -0.161610 -0.152300  0.048520 -0.075948 -0.210286  \n",
       "\n",
       "[5 rows x 93 columns]"
      ],
      "text/html": [
       "<div>\n",
       "<style scoped>\n",
       "    .dataframe tbody tr th:only-of-type {\n",
       "        vertical-align: middle;\n",
       "    }\n",
       "\n",
       "    .dataframe tbody tr th {\n",
       "        vertical-align: top;\n",
       "    }\n",
       "\n",
       "    .dataframe thead th {\n",
       "        text-align: right;\n",
       "    }\n",
       "</style>\n",
       "<table border=\"1\" class=\"dataframe\">\n",
       "  <thead>\n",
       "    <tr style=\"text-align: right;\">\n",
       "      <th></th>\n",
       "      <th>0</th>\n",
       "      <th>1</th>\n",
       "      <th>2</th>\n",
       "      <th>3</th>\n",
       "      <th>4</th>\n",
       "      <th>5</th>\n",
       "      <th>6</th>\n",
       "      <th>7</th>\n",
       "      <th>8</th>\n",
       "      <th>9</th>\n",
       "      <th>...</th>\n",
       "      <th>83</th>\n",
       "      <th>84</th>\n",
       "      <th>85</th>\n",
       "      <th>86</th>\n",
       "      <th>87</th>\n",
       "      <th>88</th>\n",
       "      <th>89</th>\n",
       "      <th>90</th>\n",
       "      <th>91</th>\n",
       "      <th>92</th>\n",
       "    </tr>\n",
       "  </thead>\n",
       "  <tbody>\n",
       "    <tr>\n",
       "      <th>1</th>\n",
       "      <td>-1.640795</td>\n",
       "      <td>-0.550232</td>\n",
       "      <td>1.599106</td>\n",
       "      <td>0.678852</td>\n",
       "      <td>-0.385271</td>\n",
       "      <td>-0.243675</td>\n",
       "      <td>-0.789281</td>\n",
       "      <td>-0.282779</td>\n",
       "      <td>-1.353168</td>\n",
       "      <td>0.224241</td>\n",
       "      <td>...</td>\n",
       "      <td>0.007670</td>\n",
       "      <td>-0.017931</td>\n",
       "      <td>-0.149940</td>\n",
       "      <td>-0.042816</td>\n",
       "      <td>0.123578</td>\n",
       "      <td>-0.000079</td>\n",
       "      <td>0.158081</td>\n",
       "      <td>0.069980</td>\n",
       "      <td>-0.024304</td>\n",
       "      <td>-0.136290</td>\n",
       "    </tr>\n",
       "    <tr>\n",
       "      <th>2</th>\n",
       "      <td>0.061320</td>\n",
       "      <td>-0.717889</td>\n",
       "      <td>0.969588</td>\n",
       "      <td>-1.247994</td>\n",
       "      <td>-1.671025</td>\n",
       "      <td>0.275632</td>\n",
       "      <td>0.644154</td>\n",
       "      <td>0.447882</td>\n",
       "      <td>-0.515109</td>\n",
       "      <td>0.148403</td>\n",
       "      <td>...</td>\n",
       "      <td>-0.149313</td>\n",
       "      <td>-0.069356</td>\n",
       "      <td>-0.018642</td>\n",
       "      <td>-0.039658</td>\n",
       "      <td>-0.013591</td>\n",
       "      <td>-0.188013</td>\n",
       "      <td>0.003429</td>\n",
       "      <td>-0.139730</td>\n",
       "      <td>0.058456</td>\n",
       "      <td>0.158214</td>\n",
       "    </tr>\n",
       "    <tr>\n",
       "      <th>3</th>\n",
       "      <td>0.871182</td>\n",
       "      <td>-0.310276</td>\n",
       "      <td>0.698726</td>\n",
       "      <td>-0.920029</td>\n",
       "      <td>0.706398</td>\n",
       "      <td>0.423011</td>\n",
       "      <td>-2.179350</td>\n",
       "      <td>1.342329</td>\n",
       "      <td>0.307033</td>\n",
       "      <td>-0.571784</td>\n",
       "      <td>...</td>\n",
       "      <td>-0.017529</td>\n",
       "      <td>-0.039094</td>\n",
       "      <td>-0.089139</td>\n",
       "      <td>-0.060951</td>\n",
       "      <td>-0.034886</td>\n",
       "      <td>0.029153</td>\n",
       "      <td>-0.061990</td>\n",
       "      <td>-0.150937</td>\n",
       "      <td>0.066987</td>\n",
       "      <td>-0.122184</td>\n",
       "    </tr>\n",
       "    <tr>\n",
       "      <th>4</th>\n",
       "      <td>-0.807417</td>\n",
       "      <td>-0.387583</td>\n",
       "      <td>1.805666</td>\n",
       "      <td>0.219846</td>\n",
       "      <td>-0.860312</td>\n",
       "      <td>-0.448553</td>\n",
       "      <td>-1.068617</td>\n",
       "      <td>-0.339758</td>\n",
       "      <td>-0.633080</td>\n",
       "      <td>0.783322</td>\n",
       "      <td>...</td>\n",
       "      <td>-0.079156</td>\n",
       "      <td>-0.084417</td>\n",
       "      <td>-0.150157</td>\n",
       "      <td>-0.134444</td>\n",
       "      <td>0.421827</td>\n",
       "      <td>-0.038113</td>\n",
       "      <td>-0.181143</td>\n",
       "      <td>0.072567</td>\n",
       "      <td>0.198737</td>\n",
       "      <td>0.343894</td>\n",
       "    </tr>\n",
       "    <tr>\n",
       "      <th>5</th>\n",
       "      <td>2.458146</td>\n",
       "      <td>0.402594</td>\n",
       "      <td>0.672011</td>\n",
       "      <td>0.190909</td>\n",
       "      <td>-0.095224</td>\n",
       "      <td>1.223992</td>\n",
       "      <td>-0.688247</td>\n",
       "      <td>0.794840</td>\n",
       "      <td>-0.208003</td>\n",
       "      <td>-0.699209</td>\n",
       "      <td>...</td>\n",
       "      <td>-0.334489</td>\n",
       "      <td>0.040719</td>\n",
       "      <td>-0.064281</td>\n",
       "      <td>-0.014206</td>\n",
       "      <td>0.035489</td>\n",
       "      <td>-0.161610</td>\n",
       "      <td>-0.152300</td>\n",
       "      <td>0.048520</td>\n",
       "      <td>-0.075948</td>\n",
       "      <td>-0.210286</td>\n",
       "    </tr>\n",
       "  </tbody>\n",
       "</table>\n",
       "<p>5 rows × 93 columns</p>\n",
       "</div>"
      ]
     },
     "metadata": {},
     "execution_count": 30
    }
   ],
   "metadata": {}
  },
  {
   "cell_type": "code",
   "execution_count": 31,
   "source": [
    "inertia = []\r\n",
    "k = list(range(1,11))\r\n",
    "for i in k:\r\n",
    "    km = KMeans(n_clusters=i, random_state=0)\r\n",
    "    km.fit(pcs_df)\r\n",
    "    inertia.append(km.inertia_)\r\n",
    "elbow_data = {\"k\": k, \"inertia\": inertia}\r\n",
    "df_elbow = pd.DataFrame(elbow_data)\r\n",
    "df_elbow.hvplot.line(x=\"k\", y=\"inertia\", xticks=k, title=\"Elbow Curve\")"
   ],
   "outputs": [
    {
     "output_type": "display_data",
     "data": {},
     "metadata": {}
    },
    {
     "output_type": "execute_result",
     "data": {
      "application/vnd.holoviews_exec.v0+json": "",
      "text/plain": [
       ":Curve   [k]   (inertia)"
      ],
      "text/html": [
       "<div id='1120'>\n",
       "\n",
       "\n",
       "\n",
       "\n",
       "\n",
       "  <div class=\"bk-root\" id=\"710781b1-1ea6-4d84-a654-02b6d6d15133\" data-root-id=\"1120\"></div>\n",
       "</div>\n",
       "<script type=\"application/javascript\">(function(root) {\n",
       "  function embed_document(root) {\n",
       "    var docs_json = {\"4aa41626-50c7-4d54-95f0-e5fb276554fd\":{\"defs\":[],\"roots\":{\"references\":[{\"attributes\":{},\"id\":\"1156\",\"type\":\"Selection\"},{\"attributes\":{},\"id\":\"1167\",\"type\":\"BasicTickFormatter\"},{\"attributes\":{\"bottom_units\":\"screen\",\"fill_alpha\":0.5,\"fill_color\":\"lightgrey\",\"left_units\":\"screen\",\"level\":\"overlay\",\"line_alpha\":1.0,\"line_color\":\"black\",\"line_dash\":[4,4],\"line_width\":2,\"right_units\":\"screen\",\"syncable\":false,\"top_units\":\"screen\"},\"id\":\"1147\",\"type\":\"BoxAnnotation\"},{\"attributes\":{},\"id\":\"1130\",\"type\":\"LinearScale\"},{\"attributes\":{},\"id\":\"1165\",\"type\":\"AllLabels\"},{\"attributes\":{\"data_source\":{\"id\":\"1155\"},\"glyph\":{\"id\":\"1158\"},\"hover_glyph\":null,\"muted_glyph\":{\"id\":\"1160\"},\"nonselection_glyph\":{\"id\":\"1159\"},\"selection_glyph\":{\"id\":\"1163\"},\"view\":{\"id\":\"1162\"}},\"id\":\"1161\",\"type\":\"GlyphRenderer\"},{\"attributes\":{},\"id\":\"1170\",\"type\":\"AllLabels\"},{\"attributes\":{\"end\":10.0,\"reset_end\":10.0,\"reset_start\":1.0,\"start\":1.0,\"tags\":[[[\"k\",\"k\",null]]]},\"id\":\"1122\",\"type\":\"Range1d\"},{\"attributes\":{\"line_alpha\":0.1,\"line_color\":\"#30a2da\",\"line_width\":2,\"x\":{\"field\":\"k\"},\"y\":{\"field\":\"inertia\"}},\"id\":\"1159\",\"type\":\"Line\"},{\"attributes\":{\"end\":240585.61930679815,\"reset_end\":240585.61930679815,\"reset_start\":187843.92744454235,\"start\":187843.92744454235,\"tags\":[[[\"inertia\",\"inertia\",null]]]},\"id\":\"1123\",\"type\":\"Range1d\"},{\"attributes\":{},\"id\":\"1132\",\"type\":\"LinearScale\"},{\"attributes\":{\"margin\":[5,5,5,5],\"name\":\"HSpacer01807\",\"sizing_mode\":\"stretch_width\"},\"id\":\"1121\",\"type\":\"Spacer\"},{\"attributes\":{\"margin\":[5,5,5,5],\"name\":\"HSpacer01808\",\"sizing_mode\":\"stretch_width\"},\"id\":\"1191\",\"type\":\"Spacer\"},{\"attributes\":{\"overlay\":{\"id\":\"1147\"}},\"id\":\"1145\",\"type\":\"BoxZoomTool\"},{\"attributes\":{\"active_multi\":null,\"tools\":[{\"id\":\"1124\"},{\"id\":\"1142\"},{\"id\":\"1143\"},{\"id\":\"1144\"},{\"id\":\"1145\"},{\"id\":\"1146\"}]},\"id\":\"1148\",\"type\":\"Toolbar\"},{\"attributes\":{\"data\":{\"inertia\":{\"__ndarray__\":\"YYiY0/PUDEFqEbFwoZkKQef1j+p70AlBmAXwbSFECUFuxsdmztAIQYWFXg/gdghBErU9bisgCEHJyhLhBeIHQYJUnXH4pgdBU6ImjHh3B0E=\",\"dtype\":\"float64\",\"order\":\"little\",\"shape\":[10]},\"k\":[1,2,3,4,5,6,7,8,9,10]},\"selected\":{\"id\":\"1156\"},\"selection_policy\":{\"id\":\"1179\"}},\"id\":\"1155\",\"type\":\"ColumnDataSource\"},{\"attributes\":{\"axis_label\":\"k\",\"formatter\":{\"id\":\"1167\"},\"major_label_policy\":{\"id\":\"1165\"},\"ticker\":{\"id\":\"1164\"}},\"id\":\"1134\",\"type\":\"LinearAxis\"},{\"attributes\":{\"axis_label\":\"inertia\",\"formatter\":{\"id\":\"1172\"},\"major_label_policy\":{\"id\":\"1170\"},\"ticker\":{\"id\":\"1139\"}},\"id\":\"1138\",\"type\":\"LinearAxis\"},{\"attributes\":{},\"id\":\"1144\",\"type\":\"WheelZoomTool\"},{\"attributes\":{},\"id\":\"1172\",\"type\":\"BasicTickFormatter\"},{\"attributes\":{\"below\":[{\"id\":\"1134\"}],\"center\":[{\"id\":\"1137\"},{\"id\":\"1141\"}],\"height\":300,\"left\":[{\"id\":\"1138\"}],\"margin\":[5,5,5,5],\"min_border_bottom\":10,\"min_border_left\":10,\"min_border_right\":10,\"min_border_top\":10,\"renderers\":[{\"id\":\"1161\"}],\"sizing_mode\":\"fixed\",\"title\":{\"id\":\"1126\"},\"toolbar\":{\"id\":\"1148\"},\"width\":700,\"x_range\":{\"id\":\"1122\"},\"x_scale\":{\"id\":\"1130\"},\"y_range\":{\"id\":\"1123\"},\"y_scale\":{\"id\":\"1132\"}},\"id\":\"1125\",\"subtype\":\"Figure\",\"type\":\"Plot\"},{\"attributes\":{},\"id\":\"1146\",\"type\":\"ResetTool\"},{\"attributes\":{},\"id\":\"1139\",\"type\":\"BasicTicker\"},{\"attributes\":{\"line_color\":\"#30a2da\",\"line_width\":2,\"x\":{\"field\":\"k\"},\"y\":{\"field\":\"inertia\"}},\"id\":\"1158\",\"type\":\"Line\"},{\"attributes\":{},\"id\":\"1143\",\"type\":\"PanTool\"},{\"attributes\":{\"children\":[{\"id\":\"1121\"},{\"id\":\"1125\"},{\"id\":\"1191\"}],\"margin\":[0,0,0,0],\"name\":\"Row01803\",\"tags\":[\"embedded\"]},\"id\":\"1120\",\"type\":\"Row\"},{\"attributes\":{\"line_color\":\"#30a2da\",\"line_width\":2,\"x\":{\"field\":\"k\"},\"y\":{\"field\":\"inertia\"}},\"id\":\"1163\",\"type\":\"Line\"},{\"attributes\":{},\"id\":\"1142\",\"type\":\"SaveTool\"},{\"attributes\":{},\"id\":\"1179\",\"type\":\"UnionRenderers\"},{\"attributes\":{\"callback\":null,\"renderers\":[{\"id\":\"1161\"}],\"tags\":[\"hv_created\"],\"tooltips\":[[\"k\",\"@{k}\"],[\"inertia\",\"@{inertia}\"]]},\"id\":\"1124\",\"type\":\"HoverTool\"},{\"attributes\":{\"ticks\":[1,2,3,4,5,6,7,8,9,10]},\"id\":\"1164\",\"type\":\"FixedTicker\"},{\"attributes\":{\"text\":\"Elbow Curve\",\"text_color\":\"black\",\"text_font_size\":\"12pt\"},\"id\":\"1126\",\"type\":\"Title\"},{\"attributes\":{\"axis\":{\"id\":\"1138\"},\"dimension\":1,\"grid_line_color\":null,\"ticker\":null},\"id\":\"1141\",\"type\":\"Grid\"},{\"attributes\":{\"line_alpha\":0.2,\"line_color\":\"#30a2da\",\"line_width\":2,\"x\":{\"field\":\"k\"},\"y\":{\"field\":\"inertia\"}},\"id\":\"1160\",\"type\":\"Line\"},{\"attributes\":{\"axis\":{\"id\":\"1134\"},\"grid_line_color\":null,\"ticker\":null},\"id\":\"1137\",\"type\":\"Grid\"},{\"attributes\":{\"source\":{\"id\":\"1155\"}},\"id\":\"1162\",\"type\":\"CDSView\"}],\"root_ids\":[\"1120\"]},\"title\":\"Bokeh Application\",\"version\":\"2.3.2\"}};\n",
       "    var render_items = [{\"docid\":\"4aa41626-50c7-4d54-95f0-e5fb276554fd\",\"root_ids\":[\"1120\"],\"roots\":{\"1120\":\"710781b1-1ea6-4d84-a654-02b6d6d15133\"}}];\n",
       "    root.Bokeh.embed.embed_items_notebook(docs_json, render_items);\n",
       "  }\n",
       "  if (root.Bokeh !== undefined && root.Bokeh.Panel !== undefined) {\n",
       "    embed_document(root);\n",
       "  } else {\n",
       "    var attempts = 0;\n",
       "    var timer = setInterval(function(root) {\n",
       "      if (root.Bokeh !== undefined && root.Bokeh.Panel !== undefined) {\n",
       "        clearInterval(timer);\n",
       "        embed_document(root);\n",
       "      } else if (document.readyState == \"complete\") {\n",
       "        attempts++;\n",
       "        if (attempts > 100) {\n",
       "          clearInterval(timer);\n",
       "          console.log(\"Bokeh: ERROR: Unable to run BokehJS code because BokehJS library is missing\");\n",
       "        }\n",
       "      }\n",
       "    }, 10, root)\n",
       "  }\n",
       "})(window);</script>"
      ]
     },
     "metadata": {
      "application/vnd.holoviews_exec.v0+json": {
       "id": "1120"
      }
     },
     "execution_count": 31
    }
   ],
   "metadata": {}
  },
  {
   "cell_type": "code",
   "execution_count": 44,
   "source": [
    "model = KMeans(n_clusters=4, random_state=0)\r\n",
    "model.fit(pcs_df)\r\n",
    "predictions = model.predict(pcs_df)"
   ],
   "outputs": [],
   "metadata": {}
  },
  {
   "cell_type": "code",
   "execution_count": 45,
   "source": [
    "df[\"class\"] = predictions\r\n",
    "df.head()"
   ],
   "outputs": [
    {
     "output_type": "execute_result",
     "data": {
      "text/plain": [
       "    cps19_responseid cps19_citizenship  cps19_yob cps19_gender cps19_province  \\\n",
       "1  R_3j7fAVYfVCewi3H  Canadian citizen       2000      A woman        Ontario   \n",
       "2  R_brdMqsPTvQ5t1tL  Canadian citizen       2000      A woman        Ontario   \n",
       "3  R_Wumhl7QEMURFqZH  Canadian citizen       2000        A man        Ontario   \n",
       "4  R_3EH051N9vLmOOHM  Canadian citizen       2000      A woman        Ontario   \n",
       "5  R_1FynCZH7i2j3zEY  Canadian citizen       1999        A man        Ontario   \n",
       "\n",
       "                    cps19_education      cps19_demsat  cps19_interest_gen_1  \\\n",
       "1                   Some university  Fairly satisfied                  10.0   \n",
       "2  Completed secondary/ high school  Fairly satisfied                   8.0   \n",
       "3  Completed secondary/ high school  Fairly satisfied                   9.0   \n",
       "4  Completed secondary/ high school  Fairly satisfied                  10.0   \n",
       "5  Completed secondary/ high school  Fairly satisfied                  10.0   \n",
       "\n",
       "   cps19_interest_elxn_1   cps19_v_likely  ... cps19_language_no_answer  \\\n",
       "1                   10.0  Certain to vote  ...                       No   \n",
       "2                    8.0  Certain to vote  ...                       No   \n",
       "3                    8.0  Certain to vote  ...                       No   \n",
       "4                   10.0  Certain to vote  ...                       No   \n",
       "5                   10.0  Certain to vote  ...                       No   \n",
       "\n",
       "  cps19_language_aborginal  cps_19_language_other  \\\n",
       "1                       No                     No   \n",
       "2                       No                     No   \n",
       "3                       No                     No   \n",
       "4                       No                     No   \n",
       "5                       No                 Hebrew   \n",
       "\n",
       "              cps19_employment cps19_union cps19_children cps19_income_number  \\\n",
       "1  Student and working for pay          No             No             30000.0   \n",
       "2    Working for pay part-time          No             No             13000.0   \n",
       "3  Student and working for pay          No             No             55000.0   \n",
       "4                      Student          No             No            190000.0   \n",
       "5    Working for pay part-time          No             No             10000.0   \n",
       "\n",
       "   cps19_marital cps19_household class  \n",
       "1  Never Married               5     0  \n",
       "2  Never Married               2     0  \n",
       "3  Never Married               3     0  \n",
       "4  Never Married               4     3  \n",
       "5  Never Married               2     0  \n",
       "\n",
       "[5 rows x 87 columns]"
      ],
      "text/html": [
       "<div>\n",
       "<style scoped>\n",
       "    .dataframe tbody tr th:only-of-type {\n",
       "        vertical-align: middle;\n",
       "    }\n",
       "\n",
       "    .dataframe tbody tr th {\n",
       "        vertical-align: top;\n",
       "    }\n",
       "\n",
       "    .dataframe thead th {\n",
       "        text-align: right;\n",
       "    }\n",
       "</style>\n",
       "<table border=\"1\" class=\"dataframe\">\n",
       "  <thead>\n",
       "    <tr style=\"text-align: right;\">\n",
       "      <th></th>\n",
       "      <th>cps19_responseid</th>\n",
       "      <th>cps19_citizenship</th>\n",
       "      <th>cps19_yob</th>\n",
       "      <th>cps19_gender</th>\n",
       "      <th>cps19_province</th>\n",
       "      <th>cps19_education</th>\n",
       "      <th>cps19_demsat</th>\n",
       "      <th>cps19_interest_gen_1</th>\n",
       "      <th>cps19_interest_elxn_1</th>\n",
       "      <th>cps19_v_likely</th>\n",
       "      <th>...</th>\n",
       "      <th>cps19_language_no_answer</th>\n",
       "      <th>cps19_language_aborginal</th>\n",
       "      <th>cps_19_language_other</th>\n",
       "      <th>cps19_employment</th>\n",
       "      <th>cps19_union</th>\n",
       "      <th>cps19_children</th>\n",
       "      <th>cps19_income_number</th>\n",
       "      <th>cps19_marital</th>\n",
       "      <th>cps19_household</th>\n",
       "      <th>class</th>\n",
       "    </tr>\n",
       "  </thead>\n",
       "  <tbody>\n",
       "    <tr>\n",
       "      <th>1</th>\n",
       "      <td>R_3j7fAVYfVCewi3H</td>\n",
       "      <td>Canadian citizen</td>\n",
       "      <td>2000</td>\n",
       "      <td>A woman</td>\n",
       "      <td>Ontario</td>\n",
       "      <td>Some university</td>\n",
       "      <td>Fairly satisfied</td>\n",
       "      <td>10.0</td>\n",
       "      <td>10.0</td>\n",
       "      <td>Certain to vote</td>\n",
       "      <td>...</td>\n",
       "      <td>No</td>\n",
       "      <td>No</td>\n",
       "      <td>No</td>\n",
       "      <td>Student and working for pay</td>\n",
       "      <td>No</td>\n",
       "      <td>No</td>\n",
       "      <td>30000.0</td>\n",
       "      <td>Never Married</td>\n",
       "      <td>5</td>\n",
       "      <td>0</td>\n",
       "    </tr>\n",
       "    <tr>\n",
       "      <th>2</th>\n",
       "      <td>R_brdMqsPTvQ5t1tL</td>\n",
       "      <td>Canadian citizen</td>\n",
       "      <td>2000</td>\n",
       "      <td>A woman</td>\n",
       "      <td>Ontario</td>\n",
       "      <td>Completed secondary/ high school</td>\n",
       "      <td>Fairly satisfied</td>\n",
       "      <td>8.0</td>\n",
       "      <td>8.0</td>\n",
       "      <td>Certain to vote</td>\n",
       "      <td>...</td>\n",
       "      <td>No</td>\n",
       "      <td>No</td>\n",
       "      <td>No</td>\n",
       "      <td>Working for pay part-time</td>\n",
       "      <td>No</td>\n",
       "      <td>No</td>\n",
       "      <td>13000.0</td>\n",
       "      <td>Never Married</td>\n",
       "      <td>2</td>\n",
       "      <td>0</td>\n",
       "    </tr>\n",
       "    <tr>\n",
       "      <th>3</th>\n",
       "      <td>R_Wumhl7QEMURFqZH</td>\n",
       "      <td>Canadian citizen</td>\n",
       "      <td>2000</td>\n",
       "      <td>A man</td>\n",
       "      <td>Ontario</td>\n",
       "      <td>Completed secondary/ high school</td>\n",
       "      <td>Fairly satisfied</td>\n",
       "      <td>9.0</td>\n",
       "      <td>8.0</td>\n",
       "      <td>Certain to vote</td>\n",
       "      <td>...</td>\n",
       "      <td>No</td>\n",
       "      <td>No</td>\n",
       "      <td>No</td>\n",
       "      <td>Student and working for pay</td>\n",
       "      <td>No</td>\n",
       "      <td>No</td>\n",
       "      <td>55000.0</td>\n",
       "      <td>Never Married</td>\n",
       "      <td>3</td>\n",
       "      <td>0</td>\n",
       "    </tr>\n",
       "    <tr>\n",
       "      <th>4</th>\n",
       "      <td>R_3EH051N9vLmOOHM</td>\n",
       "      <td>Canadian citizen</td>\n",
       "      <td>2000</td>\n",
       "      <td>A woman</td>\n",
       "      <td>Ontario</td>\n",
       "      <td>Completed secondary/ high school</td>\n",
       "      <td>Fairly satisfied</td>\n",
       "      <td>10.0</td>\n",
       "      <td>10.0</td>\n",
       "      <td>Certain to vote</td>\n",
       "      <td>...</td>\n",
       "      <td>No</td>\n",
       "      <td>No</td>\n",
       "      <td>No</td>\n",
       "      <td>Student</td>\n",
       "      <td>No</td>\n",
       "      <td>No</td>\n",
       "      <td>190000.0</td>\n",
       "      <td>Never Married</td>\n",
       "      <td>4</td>\n",
       "      <td>3</td>\n",
       "    </tr>\n",
       "    <tr>\n",
       "      <th>5</th>\n",
       "      <td>R_1FynCZH7i2j3zEY</td>\n",
       "      <td>Canadian citizen</td>\n",
       "      <td>1999</td>\n",
       "      <td>A man</td>\n",
       "      <td>Ontario</td>\n",
       "      <td>Completed secondary/ high school</td>\n",
       "      <td>Fairly satisfied</td>\n",
       "      <td>10.0</td>\n",
       "      <td>10.0</td>\n",
       "      <td>Certain to vote</td>\n",
       "      <td>...</td>\n",
       "      <td>No</td>\n",
       "      <td>No</td>\n",
       "      <td>Hebrew</td>\n",
       "      <td>Working for pay part-time</td>\n",
       "      <td>No</td>\n",
       "      <td>No</td>\n",
       "      <td>10000.0</td>\n",
       "      <td>Never Married</td>\n",
       "      <td>2</td>\n",
       "      <td>0</td>\n",
       "    </tr>\n",
       "  </tbody>\n",
       "</table>\n",
       "<p>5 rows × 87 columns</p>\n",
       "</div>"
      ]
     },
     "metadata": {},
     "execution_count": 45
    }
   ],
   "metadata": {}
  },
  {
   "cell_type": "code",
   "execution_count": 39,
   "source": [
    "df.to_csv(\"clusters.csv\")"
   ],
   "outputs": [],
   "metadata": {}
  },
  {
   "cell_type": "code",
   "execution_count": 46,
   "source": [
    "df[\"class\"].value_counts()"
   ],
   "outputs": [
    {
     "output_type": "execute_result",
     "data": {
      "text/plain": [
       "0    8944\n",
       "3    2813\n",
       "2      50\n",
       "1       5\n",
       "Name: class, dtype: int64"
      ]
     },
     "metadata": {},
     "execution_count": 46
    }
   ],
   "metadata": {}
  }
 ],
 "metadata": {
  "interpreter": {
   "hash": "88f0771ce18809008970158de5b0d3502c82217214f9c8001304d62ba9ad8dd3"
  },
  "kernelspec": {
   "display_name": "Python 3",
   "language": "python",
   "name": "python3"
  },
  "language_info": {
   "codemirror_mode": {
    "name": "ipython",
    "version": 3
   },
   "file_extension": ".py",
   "mimetype": "text/x-python",
   "name": "python",
   "nbconvert_exporter": "python",
   "pygments_lexer": "ipython3",
   "version": "3.7.10"
  }
 },
 "nbformat": 4,
 "nbformat_minor": 2
}