{
 "cells": [
  {
   "cell_type": "code",
   "execution_count": 1,
   "id": "769b74bf",
   "metadata": {},
   "outputs": [],
   "source": [
    "import numpy as np\n",
    "import pandas as pd\n",
    "from pathlib import Path\n",
    "from collections import Counter"
   ]
  },
  {
   "cell_type": "code",
   "execution_count": 2,
   "id": "29d4a810",
   "metadata": {},
   "outputs": [],
   "source": [
    "from sklearn.metrics import balanced_accuracy_score\n",
    "from sklearn.model_selection import train_test_split\n",
    "from sklearn.metrics import confusion_matrix\n",
    "from imblearn.metrics import classification_report_imbalanced\n",
    "from sklearn import tree"
   ]
  },
  {
   "cell_type": "code",
   "execution_count": 3,
   "id": "e2d45238",
   "metadata": {},
   "outputs": [
    {
     "data": {
      "text/html": [
       "<div>\n",
       "<style scoped>\n",
       "    .dataframe tbody tr th:only-of-type {\n",
       "        vertical-align: middle;\n",
       "    }\n",
       "\n",
       "    .dataframe tbody tr th {\n",
       "        vertical-align: top;\n",
       "    }\n",
       "\n",
       "    .dataframe thead th {\n",
       "        text-align: right;\n",
       "    }\n",
       "</style>\n",
       "<table border=\"1\" class=\"dataframe\">\n",
       "  <thead>\n",
       "    <tr style=\"text-align: right;\">\n",
       "      <th></th>\n",
       "      <th>Unnamed: 0</th>\n",
       "      <th>cps19_ResponseId</th>\n",
       "      <th>cps19_citizenship</th>\n",
       "      <th>cps19_yob</th>\n",
       "      <th>cps19_gender</th>\n",
       "      <th>cps19_province</th>\n",
       "      <th>cps19_education</th>\n",
       "      <th>cps19_demsat</th>\n",
       "      <th>cps19_interest_gen_1</th>\n",
       "      <th>cps19_interest_elxn_1</th>\n",
       "      <th>...</th>\n",
       "      <th>cps19_language_vietnamese</th>\n",
       "      <th>cps19_language_no_answer</th>\n",
       "      <th>cps19_language_aborginal</th>\n",
       "      <th>cps_19_language_other</th>\n",
       "      <th>cps19_employment</th>\n",
       "      <th>cps19_union</th>\n",
       "      <th>cps19_children</th>\n",
       "      <th>cps19_income_number</th>\n",
       "      <th>cps19_marital</th>\n",
       "      <th>cps19_household</th>\n",
       "    </tr>\n",
       "  </thead>\n",
       "  <tbody>\n",
       "    <tr>\n",
       "      <th>0</th>\n",
       "      <td>4</td>\n",
       "      <td>R_27WeMQ1asip2cMD</td>\n",
       "      <td>Canadian citizen</td>\n",
       "      <td>2000</td>\n",
       "      <td>A woman</td>\n",
       "      <td>Ontario</td>\n",
       "      <td>Completed secondary/ high school</td>\n",
       "      <td>Fairly satisfied</td>\n",
       "      <td>8.0</td>\n",
       "      <td>6.0</td>\n",
       "      <td>...</td>\n",
       "      <td>No</td>\n",
       "      <td>No</td>\n",
       "      <td>No</td>\n",
       "      <td>No</td>\n",
       "      <td>Working for pay part-time</td>\n",
       "      <td>No</td>\n",
       "      <td>No</td>\n",
       "      <td>56000.0</td>\n",
       "      <td>Never Married</td>\n",
       "      <td>6.0</td>\n",
       "    </tr>\n",
       "    <tr>\n",
       "      <th>1</th>\n",
       "      <td>13</td>\n",
       "      <td>R_3j7fAVYfVCewi3H</td>\n",
       "      <td>Canadian citizen</td>\n",
       "      <td>2000</td>\n",
       "      <td>A woman</td>\n",
       "      <td>Ontario</td>\n",
       "      <td>Some university</td>\n",
       "      <td>Fairly satisfied</td>\n",
       "      <td>10.0</td>\n",
       "      <td>10.0</td>\n",
       "      <td>...</td>\n",
       "      <td>No</td>\n",
       "      <td>No</td>\n",
       "      <td>No</td>\n",
       "      <td>No</td>\n",
       "      <td>Student and working for pay</td>\n",
       "      <td>No</td>\n",
       "      <td>No</td>\n",
       "      <td>30000.0</td>\n",
       "      <td>Never Married</td>\n",
       "      <td>5.0</td>\n",
       "    </tr>\n",
       "    <tr>\n",
       "      <th>2</th>\n",
       "      <td>20</td>\n",
       "      <td>R_brdMqsPTvQ5t1tL</td>\n",
       "      <td>Canadian citizen</td>\n",
       "      <td>2000</td>\n",
       "      <td>A woman</td>\n",
       "      <td>Ontario</td>\n",
       "      <td>Completed secondary/ high school</td>\n",
       "      <td>Fairly satisfied</td>\n",
       "      <td>8.0</td>\n",
       "      <td>8.0</td>\n",
       "      <td>...</td>\n",
       "      <td>No</td>\n",
       "      <td>No</td>\n",
       "      <td>No</td>\n",
       "      <td>No</td>\n",
       "      <td>Working for pay part-time</td>\n",
       "      <td>No</td>\n",
       "      <td>No</td>\n",
       "      <td>13000.0</td>\n",
       "      <td>Never Married</td>\n",
       "      <td>2.0</td>\n",
       "    </tr>\n",
       "    <tr>\n",
       "      <th>3</th>\n",
       "      <td>21</td>\n",
       "      <td>R_Wumhl7QEMURFqZH</td>\n",
       "      <td>Canadian citizen</td>\n",
       "      <td>2000</td>\n",
       "      <td>A man</td>\n",
       "      <td>Ontario</td>\n",
       "      <td>Completed secondary/ high school</td>\n",
       "      <td>Fairly satisfied</td>\n",
       "      <td>9.0</td>\n",
       "      <td>8.0</td>\n",
       "      <td>...</td>\n",
       "      <td>No</td>\n",
       "      <td>No</td>\n",
       "      <td>No</td>\n",
       "      <td>No</td>\n",
       "      <td>Student and working for pay</td>\n",
       "      <td>No</td>\n",
       "      <td>No</td>\n",
       "      <td>55000.0</td>\n",
       "      <td>Never Married</td>\n",
       "      <td>3.0</td>\n",
       "    </tr>\n",
       "    <tr>\n",
       "      <th>4</th>\n",
       "      <td>26</td>\n",
       "      <td>R_3EH051N9vLmOOHM</td>\n",
       "      <td>Canadian citizen</td>\n",
       "      <td>2000</td>\n",
       "      <td>A woman</td>\n",
       "      <td>Ontario</td>\n",
       "      <td>Completed secondary/ high school</td>\n",
       "      <td>Fairly satisfied</td>\n",
       "      <td>10.0</td>\n",
       "      <td>10.0</td>\n",
       "      <td>...</td>\n",
       "      <td>No</td>\n",
       "      <td>No</td>\n",
       "      <td>No</td>\n",
       "      <td>No</td>\n",
       "      <td>Student</td>\n",
       "      <td>No</td>\n",
       "      <td>No</td>\n",
       "      <td>190000.0</td>\n",
       "      <td>Never Married</td>\n",
       "      <td>4.0</td>\n",
       "    </tr>\n",
       "  </tbody>\n",
       "</table>\n",
       "<p>5 rows × 87 columns</p>\n",
       "</div>"
      ],
      "text/plain": [
       "   Unnamed: 0   cps19_ResponseId cps19_citizenship  cps19_yob cps19_gender  \\\n",
       "0           4  R_27WeMQ1asip2cMD  Canadian citizen       2000      A woman   \n",
       "1          13  R_3j7fAVYfVCewi3H  Canadian citizen       2000      A woman   \n",
       "2          20  R_brdMqsPTvQ5t1tL  Canadian citizen       2000      A woman   \n",
       "3          21  R_Wumhl7QEMURFqZH  Canadian citizen       2000        A man   \n",
       "4          26  R_3EH051N9vLmOOHM  Canadian citizen       2000      A woman   \n",
       "\n",
       "  cps19_province                   cps19_education      cps19_demsat  \\\n",
       "0        Ontario  Completed secondary/ high school  Fairly satisfied   \n",
       "1        Ontario                   Some university  Fairly satisfied   \n",
       "2        Ontario  Completed secondary/ high school  Fairly satisfied   \n",
       "3        Ontario  Completed secondary/ high school  Fairly satisfied   \n",
       "4        Ontario  Completed secondary/ high school  Fairly satisfied   \n",
       "\n",
       "   cps19_interest_gen_1  cps19_interest_elxn_1  ... cps19_language_vietnamese  \\\n",
       "0                   8.0                    6.0  ...                        No   \n",
       "1                  10.0                   10.0  ...                        No   \n",
       "2                   8.0                    8.0  ...                        No   \n",
       "3                   9.0                    8.0  ...                        No   \n",
       "4                  10.0                   10.0  ...                        No   \n",
       "\n",
       "  cps19_language_no_answer cps19_language_aborginal  cps_19_language_other  \\\n",
       "0                       No                       No                     No   \n",
       "1                       No                       No                     No   \n",
       "2                       No                       No                     No   \n",
       "3                       No                       No                     No   \n",
       "4                       No                       No                     No   \n",
       "\n",
       "              cps19_employment cps19_union cps19_children cps19_income_number  \\\n",
       "0    Working for pay part-time          No             No             56000.0   \n",
       "1  Student and working for pay          No             No             30000.0   \n",
       "2    Working for pay part-time          No             No             13000.0   \n",
       "3  Student and working for pay          No             No             55000.0   \n",
       "4                      Student          No             No            190000.0   \n",
       "\n",
       "   cps19_marital cps19_household  \n",
       "0  Never Married             6.0  \n",
       "1  Never Married             5.0  \n",
       "2  Never Married             2.0  \n",
       "3  Never Married             3.0  \n",
       "4  Never Married             4.0  \n",
       "\n",
       "[5 rows x 87 columns]"
      ]
     },
     "execution_count": 3,
     "metadata": {},
     "output_type": "execute_result"
    }
   ],
   "source": [
    "# Loading data\n",
    "file_path = Path(\"./Resources/clean_survey_data.csv\")\n",
    "df_cps = pd.read_csv(file_path)\n",
    "df_cps.head()"
   ]
  },
  {
   "cell_type": "code",
   "execution_count": 4,
   "id": "da6c5956",
   "metadata": {},
   "outputs": [],
   "source": [
    "target = [\"cps19_votechoice\"]"
   ]
  },
  {
   "cell_type": "code",
   "execution_count": 5,
   "id": "6b0c4432",
   "metadata": {},
   "outputs": [
    {
     "data": {
      "text/plain": [
       "array([\"Don't know/ Prefer not to answer\", 'Liberal Party', 'ndp',\n",
       "       'Conservative Party', 'Liberal Party', 'Conservative Party',\n",
       "       'Liberal Party', 'Green Party', 'ndp', 'Conservative Party'],\n",
       "      dtype=object)"
      ]
     },
     "execution_count": 5,
     "metadata": {},
     "output_type": "execute_result"
    }
   ],
   "source": [
    "X = df_cps.copy()\n",
    "X = X.drop(\"cps19_votechoice\", axis=1)\n",
    "X.head()\n",
    "# Define the target set.\n",
    "y = df_cps[\"cps19_votechoice\"].values\n",
    "y[:10]"
   ]
  },
  {
   "cell_type": "code",
   "execution_count": 6,
   "id": "0536cb3c",
   "metadata": {},
   "outputs": [],
   "source": [
    "from sklearn.preprocessing import LabelEncoder\n",
    "le = LabelEncoder()\n",
    "encoded_df = X.copy()\n",
    "for colName in encoded_df:\n",
    "    encoded_df[colName] = le.fit_transform(encoded_df[colName])\n",
    "    \n",
    "from sklearn.preprocessing import StandardScaler\n",
    "data_scaler = StandardScaler()\n",
    "cps_encoded_scaled = data_scaler.fit_transform(encoded_df)"
   ]
  },
  {
   "cell_type": "code",
   "execution_count": 36,
   "id": "22b4918c",
   "metadata": {},
   "outputs": [
    {
     "name": "stdout",
     "output_type": "stream",
     "text": [
      "(10582, 86)\n",
      "(2646, 86)\n",
      "(10582,)\n",
      "(2646,)\n"
     ]
    }
   ],
   "source": [
    "X_train, X_test, y_train, y_test = train_test_split(cps_encoded_scaled, y, random_state=78, train_size=0.80)\n",
    "# Determine the shape of our training and testing sets.\n",
    "print(X_train.shape)\n",
    "print(X_test.shape)\n",
    "print(y_train.shape)\n",
    "print(y_test.shape)"
   ]
  },
  {
   "cell_type": "code",
   "execution_count": 37,
   "id": "acf5ffe5",
   "metadata": {},
   "outputs": [],
   "source": [
    "# Creating the decision tree classifier instance.\n",
    "model = tree.DecisionTreeClassifier()\n",
    "# Fitting the model.\n",
    "model = model.fit(X_train, y_train)"
   ]
  },
  {
   "cell_type": "code",
   "execution_count": 38,
   "id": "b2596275",
   "metadata": {},
   "outputs": [],
   "source": [
    "predictions = model.predict(X_test)"
   ]
  },
  {
   "cell_type": "code",
   "execution_count": 39,
   "id": "7131ba06",
   "metadata": {
    "scrolled": true
   },
   "outputs": [
    {
     "name": "stdout",
     "output_type": "stream",
     "text": [
      "correct count: 1228\n",
      "incorrect count: 1418\n",
      "success rate: 0.46409674981103555\n"
     ]
    }
   ],
   "source": [
    "correct = 0\n",
    "incorrect = 0\n",
    "for prediction, actual in zip(predictions, y_test):\n",
    "    if prediction == actual:\n",
    "        correct += 1\n",
    "    else:\n",
    "        incorrect += 1\n",
    "        \n",
    "print(\"correct count:\", correct)\n",
    "print(\"incorrect count:\", incorrect)\n",
    "print(\"success rate:\", correct / (correct + incorrect))"
   ]
  },
  {
   "cell_type": "code",
   "execution_count": null,
   "id": "4e2690ae",
   "metadata": {},
   "outputs": [],
   "source": []
  }
 ],
 "metadata": {
  "kernelspec": {
   "display_name": "mlenv",
   "language": "python",
   "name": "mlenv"
  },
  "language_info": {
   "codemirror_mode": {
    "name": "ipython",
    "version": 3
   },
   "file_extension": ".py",
   "mimetype": "text/x-python",
   "name": "python",
   "nbconvert_exporter": "python",
   "pygments_lexer": "ipython3",
   "version": "3.7.10"
  }
 },
 "nbformat": 4,
 "nbformat_minor": 5
}
